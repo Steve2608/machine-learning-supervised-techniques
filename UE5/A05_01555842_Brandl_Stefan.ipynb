{
 "cells": [
  {
   "cell_type": "markdown",
   "metadata": {},
   "source": [
    "# Exercise 5 - Random Forests \n",
    "Implementation of the Random Forest method and comparison with a shallow Neural Network\n"
   ]
  },
  {
   "cell_type": "markdown",
   "metadata": {},
   "source": [
    "## Task 1\n",
    "\n",
    "In this task we will introduce the most important concepts of decision trees by walking you through a simple example. On the way you have to solve some exercises to gain basic insights. We will start with a toy dataset and one tree (which will be extended to a whole forest in Task 3) ).\n",
    "<br> <br>"
   ]
  },
  {
   "cell_type": "code",
   "execution_count": 1,
   "metadata": {
    "ExecuteTime": {
     "end_time": "2019-01-07T16:11:08.532704Z",
     "start_time": "2019-01-07T16:11:07.907499Z"
    }
   },
   "outputs": [],
   "source": [
    "from graphviz import Digraph\n",
    "from graphviz import Source\n",
    "from ipywidgets import interact, FloatSlider, IntSlider\n",
    "import matplotlib.pyplot as plt\n",
    "plt.style.use('ggplot')\n",
    "import numpy as np\n",
    "import pandas as pd\n",
    "from sklearn.ensemble import RandomForestClassifier\n",
    "from sklearn.metrics import roc_curve\n",
    "from sklearn.model_selection import RandomizedSearchCV, train_test_split\n",
    "from sklearn.neural_network import MLPClassifier\n",
    "from sklearn.tree import DecisionTreeClassifier\n",
    "from sklearn.tree import export_graphviz\n",
    "\n",
    "\n",
    "# Set random seed to ensure reproducible runs\n",
    "RSEED = 50"
   ]
  },
  {
   "cell_type": "code",
   "execution_count": 2,
   "metadata": {
    "ExecuteTime": {
     "end_time": "2019-01-07T16:11:08.543692Z",
     "start_time": "2019-01-07T16:11:08.536691Z"
    }
   },
   "outputs": [],
   "source": [
    "# A simple data set for demonstration \n",
    "X = np.asarray(\n",
    "    [[2, 2], \n",
    "    [2, 1],\n",
    "    [2, 3], \n",
    "    [1, 2],\n",
    "    [1, 1],\n",
    "    [3, 3]]\n",
    ")\n",
    "\n",
    "y = np.asarray([0, 1, 1, 1, 0, 1])"
   ]
  },
  {
   "cell_type": "code",
   "execution_count": 3,
   "metadata": {
    "ExecuteTime": {
     "end_time": "2019-01-07T16:11:08.747126Z",
     "start_time": "2019-01-07T16:11:08.545665Z"
    }
   },
   "outputs": [
    {
     "data": {
      "image/png": "[encoded data removed]",
      "text/plain": [
       "<Figure size 1152x648 with 1 Axes>"
      ]
     },
     "metadata": {},
     "output_type": "display_data"
    }
   ],
   "source": [
    "plt.figure(figsize=(16, 9))\n",
    "\n",
    "for x1, x2, label in zip(X[:, 0], X[:, 1], y):\n",
    "    plt.text(x1, x2, label, fontsize=40, color = 'r', ha='center', va='center')\n",
    "    \n",
    "plt.title('Demonstration Data', size = 24)\n",
    "plt.xlim((0, 3.5))\n",
    "plt.xlabel('x1', size = 20)\n",
    "plt.ylim((0, 3.5))\n",
    "plt.ylabel('x2', size = 20)\n",
    "plt.show()"
   ]
  },
  {
   "cell_type": "markdown",
   "metadata": {},
   "source": [
    "## Decision Tree Classifier (DTC)\n",
    "\n",
    "A DTC builds a decision tree based on the features of the data. This is equivalent to subdividing the feature space. Let's consider the example above and apply a simple heuristics. In the first step we try to subdivide the space such that a maximum of the data points of the same class lie in one division.  \n",
    "<br>\n",
    "We first look at the feature $x_2$, i.e. a horizontal division of the space. For example, we could divide the space at the specific threshold $x_2 = 2.5$. Then we end up having a group of samples with features $x_2 > 2.5$ and homogenous class label 1, exactly the two points with coordinates $\\{ (2,3), (3,3) \\}$ . If we instead look at the feature $x_1$, corresponding to a vertical division of the space, we cannot find a equally large or larger group of samples with the same label. Therefore, our first node in the tree is: $x_2 \\leq 2.5$, i.e. we split the space into two (see cell below) and repeat the same procedure on each of the two leafs. In our case we are done with the right leaf (since both samples have the same class) and only need to repeat the procedure on the left leaf."
   ]
  },
  {
   "cell_type": "code",
   "execution_count": 4,
   "metadata": {
    "ExecuteTime": {
     "end_time": "2019-01-07T16:11:08.823952Z",
     "start_time": "2019-01-07T16:11:08.752115Z"
    }
   },
   "outputs": [
    {
     "data": {
      "image/svg+xml": [
       "<?xml version=\"1.0\" encoding=\"UTF-8\" standalone=\"no\"?>\n",
       "<!DOCTYPE svg PUBLIC \"-//W3C//DTD SVG 1.1//EN\"\n",
       " \"http://www.w3.org/Graphics/SVG/1.1/DTD/svg11.dtd\">\n",
       "<!-- Generated by graphviz version 2.40.1 (20161225.0304)\n",
       " -->\n",
       "<!-- Title: %3 Pages: 1 -->\n",
       "<svg width=\"662pt\" height=\"116pt\"\n",
       " viewBox=\"0.00 0.00 661.82 116.00\" xmlns=\"http://www.w3.org/2000/svg\" xmlns:xlink=\"http://www.w3.org/1999/xlink\">\n",
       "<g id=\"graph0\" class=\"graph\" transform=\"scale(1 1) rotate(0) translate(4 112)\">\n",
       "<title>%3</title>\n",
       "<polygon fill=\"#ffffff\" stroke=\"transparent\" points=\"-4,4 -4,-112 657.8218,-112 657.8218,4 -4,4\"/>\n",
       "<!-- A -->\n",
       "<g id=\"node1\" class=\"node\">\n",
       "<title>A</title>\n",
       "<ellipse fill=\"none\" stroke=\"#000000\" cx=\"374.0317\" cy=\"-90\" rx=\"50.8918\" ry=\"18\"/>\n",
       "<text text-anchor=\"middle\" x=\"374.0317\" y=\"-86.3\" font-family=\"Times,serif\" font-size=\"14.00\" fill=\"#000000\">x_2 &lt;= 2.5</text>\n",
       "</g>\n",
       "<!-- B -->\n",
       "<g id=\"node2\" class=\"node\">\n",
       "<title>B</title>\n",
       "<ellipse fill=\"none\" stroke=\"#000000\" cx=\"206.0317\" cy=\"-18\" rx=\"206.0634\" ry=\"18\"/>\n",
       "<text text-anchor=\"middle\" x=\"206.0317\" y=\"-14.3\" font-family=\"Times,serif\" font-size=\"14.00\" fill=\"#000000\">{(1.0, 1.0, 0), (2.0, 1.0, 1), &#160;(1.0, 2.0, 1), (2.0, 2.0, 0)}</text>\n",
       "</g>\n",
       "<!-- A&#45;&gt;B -->\n",
       "<g id=\"edge1\" class=\"edge\">\n",
       "<title>A&#45;&gt;B</title>\n",
       "<path fill=\"none\" stroke=\"#000000\" d=\"M341.6396,-76.1177C317.587,-65.8094 284.3174,-51.551 256.7516,-39.7371\"/>\n",
       "<polygon fill=\"#000000\" stroke=\"#000000\" points=\"257.8338,-36.393 247.2636,-35.6708 255.0763,-42.8271 257.8338,-36.393\"/>\n",
       "</g>\n",
       "<!-- C -->\n",
       "<g id=\"node3\" class=\"node\">\n",
       "<title>C</title>\n",
       "<ellipse fill=\"none\" stroke=\"#000000\" cx=\"542.0317\" cy=\"-18\" rx=\"111.5806\" ry=\"18\"/>\n",
       "<text text-anchor=\"middle\" x=\"542.0317\" y=\"-14.3\" font-family=\"Times,serif\" font-size=\"14.00\" fill=\"#000000\">{(2.0, 3.0, 1), &#160;(3.0, 3.0, 1)}</text>\n",
       "</g>\n",
       "<!-- A&#45;&gt;C -->\n",
       "<g id=\"edge2\" class=\"edge\">\n",
       "<title>A&#45;&gt;C</title>\n",
       "<path fill=\"none\" stroke=\"#000000\" d=\"M406.4238,-76.1177C431.0954,-65.5441 465.4647,-50.8145 493.4286,-38.8299\"/>\n",
       "<polygon fill=\"#000000\" stroke=\"#000000\" points=\"494.8305,-42.0371 502.6432,-34.8808 492.073,-35.603 494.8305,-42.0371\"/>\n",
       "</g>\n",
       "</g>\n",
       "</svg>\n"
      ],
      "text/plain": [
       "<graphviz.dot.Digraph at 0x7985553088e0>"
      ]
     },
     "metadata": {},
     "output_type": "display_data"
    }
   ],
   "source": [
    "dot = Digraph()\n",
    "dot.node('A', 'x_2 <= 2.5')\n",
    "dot.node('B', '{(1.0,\\ 1.0, 0),\\ (2.0,\\ 1.0, 1), \\ (1.0,\\ 2.0, 1), \\(2.0,\\ 2.0, 0)}')\n",
    "dot.node('C', '{(2.0,\\ 3.0, 1), \\ (3.0,\\ 3.0, 1)}')\n",
    "dot.edges(['AB', 'AC'])\n",
    "display(dot)"
   ]
  },
  {
   "cell_type": "markdown",
   "metadata": {},
   "source": [
    "## Information Gain (IG) and Gini Impurity (GI)\n",
    "\n",
    "Our simple heuristics from above fails on the left node. We need a better criterion to decide which splits to make. Two such criteria are called Information Gain and Gini Impurity. \n",
    "<br> <br>\n",
    "\n",
    "### Information Gain\n",
    "Information Gain [1] uses the notion of (Shannon) entropy [2]. The entropy of a discrete random variable $X$ with possible values $\\{ x_1, \\ldots, x_n\\}$ is defined as \n",
    "$$ H(X) = - \\sum_{i=1}^{n} P(x_i) \\ log(P(x_i)) =  \\sum_{i=1}^{n} P(x_i) \\ I(x_i) = \\mathbb{E}[I(X)], $$ where $I(x_i) = -log(P(x_i))$ is called the \"self information\" (note that we use that $ \\underset{x \\rightarrow 0^+}{lim} \\ x \\ log(x) = 0$). \n",
    "Entropy is the average information a random variable carries. The following exercises should demonstrate what that means. <br> \n",
    "Note: If log is the logarithm with base 2, information has the unit \"bit\". If we use the natural logarithm we have the unit \"nat\".  \n",
    "<br> <br>\n",
    "### Exercise\n",
    "Consider a given dice. What is the entropy in \"nats\" if <br>\n",
    "(A1) all the faces carry the same digit?\n",
    "\n",
    "Let's call the digit $d$ and the number of faces $n$. \n",
    "$$\n",
    "P(x = d) = 1\n",
    "$$\n",
    "$$\n",
    "H(x) = - \\sum_{i=1}^n P_i(x) \\cdot \\text{log}(P(x_i))\n",
    "$$\n",
    "In our case:\n",
    "$$\n",
    "H(x) = - \\sum_{i=1}^6 P(x_i) \\cdot \\text{ln}(P(x_i)) \\\\\n",
    "= - \\sum_{i=1}^6 1 \\cdot \\text{ln}(1) \\\\\n",
    "= - \\sum_{i=1}^6 1 \\cdot 0 \\\\\n",
    "= 0 \\ \\text{nats} \n",
    "$$\n",
    "(A2) all faces have a different digit? \n",
    "\n",
    "Let's call an arbitrary but fixed digit $d$ and the number of faces $n$. \n",
    "$$\n",
    "P(x_i = d) = \\frac{1}{n} \n",
    "$$\n",
    "analogously to above we end up with\n",
    "$$\n",
    "H(x) = - \\sum_{i=1}^n \\frac{1}{n} \\cdot \\text{ln}(P(x_i)) \\\\\n",
    "= - \\sum_{i=1}^n \\frac{1}{n} \\cdot \\text{ln}(\\frac{1}{n}) \\\\\n",
    "= - n \\cdot \\big( \\frac{1}{n} \\cdot \\text{ln}(\\frac{1}{n}) \\big) \\\\\n",
    "= - \\text{ln}(\\frac{1}{n}) \\ \\text{nats} \n",
    "$$\n",
    "\n",
    "In the common case ($n = 6$) the entropy is $- \\text{ln}(\\frac{1}{6}) = 1.791759469228055 \\ \\text{nats}$\n",
    "\n",
    "The above example should give an intuitive understanding about the connection of entropy and information. The dice with the same digit on every face carries no new information - every time you throw it you know the outcome already. Playing with such a dice would be rather boring.  <br>\n",
    "Our data $Z$ itself also carries information - we can capture this by its entropy $H(Z)$.\n",
    "### Exercise\n",
    "(B1) Calculate the overall entropy in nats of our toy data from above\n",
    "\n",
    "$$x_1 = x_4 = 0$$\n",
    "$$x_2 = x_3 = x_5 = x_6 = 1$$\n",
    "\n",
    "$$P(x_i = 0) = \\frac{1}{3}$$\n",
    "$$P(x_i = 1) = \\frac{2}{3}$$\n",
    "\n",
    "$$\n",
    "H(Z) = -\\sum_{i=1}^{\\{1, 4\\}} P(x_i) \\cdot \\text{ln}(P(x_i = 0)) -\\sum_{i=1}^{\\{2, 3, 5, 6\\}} P(x_i) \\cdot \\text{ln}(P(x_i = 1)) \\\\\n",
    "= - \\big( \\frac{1}{3} \\cdot \\text{ln}(\\frac{1}{3}) \\big) - \\big( \\frac{2}{3} \\cdot \\text{ln}(\\frac{2}{3}) \\big) \\\\\n",
    "= 0.636514168 \\ \\text{nats} \n",
    "$$\n",
    "\n",
    "<br>\n",
    "Information Gain is a measure of how much information from the information of the parent leaf we could extract by applying a specific split. We will choose the split that lets us extract the most information. Suppose we split the data of the i-th node $Z$ into $k$ splits $Z_1, \\ldots, Z_k$, then the information gain is \n",
    "$$ IG = H(Z,i) - \\sum_{j=1}^{k} \\frac{|Z_j|}{|Z|} H(Z_j), $$\n",
    "where $| \\bullet |$ denotes the number of elements of a set.\n",
    "\n",
    "### Exercise:\n",
    "The Information Gain for the split of our toy example is:\n",
    "$$ IG = H(Z) - \\frac{4}{6} H(left \\ Leaf) - \\frac{2}{6} H(right \\ Leaf)~nats.$$\n",
    "(C1) Evaluate the above expression\n",
    "$$\n",
    "H(\\text{left}) = -2 \\cdot \\frac{2}{4} \\cdot \\text{ln}(\\frac{2}{4}) = 0.6931471805 \\ \\text{nats}   \n",
    "$$\n",
    "$$\n",
    "H(\\text{right}) = -2 \\cdot \\frac{2}{2} \\cdot \\text{ln}(\\frac{2}{2}) = 0 \\ \\text{nats}   \n",
    "$$\n",
    "Therefore\n",
    "$$\n",
    "IG = H(Z) - \\frac{4}{6} \\cdot H(\\text{left}) - \\frac{2}{6} \\cdot H(\\text{right}) = 0.1744160476267 \\ \\text{nats} \n",
    "$$\n",
    "(C2) Calculate the Information Gain we would get if we split the dataset vertically at $x_1 = 1.5$\n",
    "$$\n",
    "H(\\text{left}) = - \\text{ln}(\\frac{1}{2}) = 0.6931471805\n",
    "$$\n",
    "$$\n",
    "H(\\text{right}) = -\\frac{3}{4} \\cdot \\text{ln}(\\frac{3}{4}) - \\frac{1}{4} \\cdot \\text{ln}(\\frac{1}{4}) = 0.562335144 \\ \\text{nats}  \n",
    "$$\n",
    "Therefore\n",
    "$$\n",
    "IG = H(Z) - \\frac{2}{6} \\cdot H(\\text{left}) - \\frac{4}{6} \\cdot H(\\text{right}) = 0.03057501 \\ \\text{nats} \n",
    "$$\n",
    "\n",
    "We see that the first split extracts more information. An alternative approach is the Gini impurity.\n",
    "\n",
    "<br> <br>\n",
    "### Gini impurity\n",
    "The Gini impurity is a measure of how often a randomly chosen element from the set would be incorrectly labeled if it was randomly labeled according to the distribution of labels in the subset [3].\n",
    "<br>\n",
    "What does that mean? Let us suppose we have $2$ labels and let $p_1, p_2$ be the fractions of points labeld with labels $1$ and $2$ (note: $p_1 + p_2 = 1$) . The probabilty to choose a point with label $1$ is $p_1$. \n",
    "The probability to choose label $2$ is $p_2 = 1-p_1$. Therefore, the probability to label a point of label $1$ with label $2$ is $p_1 \\cdot p_2 = p_1 \\cdot (1-p_1) = p_1 - p_1^2$. \n",
    "<br>\n",
    "Analogously, the probability for points with label $2$ to be labeld with $1$ is $p_2 \\cdot (1-p_2) = p_2 - p_2^2$. The Gini impurity is the sum over both: $p_1 - p_1^2 + p_2 - p_2^2 = p_1 + p_2 - p_1^2 - p_2^2 = 1 - p_1^2 -p_2^2$\n",
    "<br>\n",
    "The above reasoning is easy to generalize to the case where the number of labels $J$ is larger then two: $J > 2$ . The formula for the given dataset $Z$ is simply\n",
    "$$I_G(Z) = 1 - \\sum_{j = 1}^J p_j(Z)^2,$$ where $p_j(Z)$ is the frequency of points with labels $j$ in the dataset $Z$.\n",
    "<br>\n",
    "(D1) Calculate the Gini impurity for our toy dataset!\n",
    "$$\n",
    "I_G(Z) = 1 - \\sum_{j=1}^J p_j(Z)^2 = 1 - (\\frac{2}{6})^2 - (\\frac{4}{6})^2 = \\frac{16}{36} = \\frac{4}{9}\n",
    "$$\n",
    "(D2) Calculate the Gini impurity for the left leaf in our split!\n",
    "$$\n",
    "I_G(\\text{left}) = 1 - \\sum_{j=1}^J p_j(Z)^2 = 1 - (\\frac{2}{4})^2 - (\\frac{2}{4})^2 = \\frac{1}{2}\n",
    "$$\n",
    "(D3) Calculate the Gini impurity for the right leaf in our split!\n",
    "$$\n",
    "I_G(\\text{left}) = 1 - \\sum_{j=1}^J p_j(Z)^2 = 1 - 0^2 - 1^2 = 0\n",
    "$$\n",
    "\n",
    "<br>\n",
    "The Gini impurity Gain is the amount of \"impurity\" we get rid of for a specific split.\n",
    "Let's assume we perform a specific split $Z_1, \\ldots, Z_k$ of $Z$. Then the impurity gain is\n",
    "$$g_G(Z) = I_G(Z) - \\sum_{j=1}^K \\frac{|Z_k|}{|Z|} \\cdot I_G(Z_k)$$\n",
    "(D4) Calculate the Gini information gain for our split in the toy dataset\n",
    "$$\n",
    "g_G(Z) = \\frac{4}{9} - \\frac{4}{6} \\cdot \\frac{1}{2} - \\frac{2}{6} \\cdot 0 \\\\\n",
    "= \\frac{4}{9} - \\frac{3}{9} \\\\\n",
    "= \\frac{1}{9}\n",
    "$$\n",
    "<br> <br>\n",
    "## So what is a random forest?\n",
    "What we have seen so far is one decision tree. A forest consists of multiple trees. But every tree is trained on a) a random subset of points and b) a random subset of features. a) is called \"bagging\" and reduces the variance of the model. b) is called \"feature bagging\" and is  applied because very view features might be strong predictors for the output - thus, many trees in our forest would be highly correlated which would counteract a). \n",
    "\n",
    "<br> <br>\n",
    "[1] https://en.wikipedia.org/wiki/Information_gain_in_decision_trees <br>\n",
    "[2] https://en.wikipedia.org/wiki/Entropy_(information_theory) <br>\n",
    "[3] https://en.wikipedia.org/wiki/Decision_tree_learning"
   ]
  },
  {
   "cell_type": "markdown",
   "metadata": {},
   "source": [
    "## Task 2: Train a dicision tree! \n",
    "In the Cells below there are code snippets you have to fill in!"
   ]
  },
  {
   "cell_type": "code",
   "execution_count": 5,
   "metadata": {
    "ExecuteTime": {
     "end_time": "2019-01-07T16:11:09.260751Z",
     "start_time": "2019-01-07T16:11:09.252773Z"
    }
   },
   "outputs": [
    {
     "name": "stdout",
     "output_type": "stream",
     "text": [
      "Decision tree has 9 nodes with maximum depth 3.\n",
      "Model Accuracy: 1.0\n"
     ]
    }
   ],
   "source": [
    "tree = DecisionTreeClassifier().fit(X, y)\n",
    "print(f'Decision tree has {tree.tree_.node_count} nodes with maximum depth {tree.tree_.max_depth}.')\n",
    "print(f'Model Accuracy: {tree.score(X, y)}')"
   ]
  },
  {
   "cell_type": "code",
   "execution_count": 6,
   "metadata": {
    "ExecuteTime": {
     "end_time": "2019-01-07T16:11:09.319598Z",
     "start_time": "2019-01-07T16:11:09.262746Z"
    }
   },
   "outputs": [
    {
     "data": {
      "image/svg+xml": [
       "<?xml version=\"1.0\" encoding=\"UTF-8\" standalone=\"no\"?>\n",
       "<!DOCTYPE svg PUBLIC \"-//W3C//DTD SVG 1.1//EN\"\n",
       " \"http://www.w3.org/Graphics/SVG/1.1/DTD/svg11.dtd\">\n",
       "<!-- Generated by graphviz version 2.40.1 (20161225.0304)\n",
       " -->\n",
       "<!-- Title: Tree Pages: 1 -->\n",
       "<svg width=\"442pt\" height=\"433pt\"\n",
       " viewBox=\"0.00 0.00 442.00 433.00\" xmlns=\"http://www.w3.org/2000/svg\" xmlns:xlink=\"http://www.w3.org/1999/xlink\">\n",
       "<g id=\"graph0\" class=\"graph\" transform=\"scale(1 1) rotate(0) translate(4 429)\">\n",
       "<title>Tree</title>\n",
       "<polygon fill=\"#ffffff\" stroke=\"transparent\" points=\"-4,4 -4,-429 438,-429 438,4 -4,4\"/>\n",
       "<!-- 0 -->\n",
       "<g id=\"node1\" class=\"node\">\n",
       "<title>0</title>\n",
       "<path fill=\"#9ccef2\" stroke=\"#000000\" d=\"M308,-425C308,-425 237,-425 237,-425 231,-425 225,-419 225,-413 225,-413 225,-354 225,-354 225,-348 231,-342 237,-342 237,-342 308,-342 308,-342 314,-342 320,-348 320,-354 320,-354 320,-413 320,-413 320,-419 314,-425 308,-425\"/>\n",
       "<text text-anchor=\"middle\" x=\"272.5\" y=\"-409.8\" font-family=\"Helvetica,sans-Serif\" font-size=\"14.00\" fill=\"#000000\">x2 &lt;= 2.5</text>\n",
       "<text text-anchor=\"middle\" x=\"272.5\" y=\"-394.8\" font-family=\"Helvetica,sans-Serif\" font-size=\"14.00\" fill=\"#000000\">gini = 0.444</text>\n",
       "<text text-anchor=\"middle\" x=\"272.5\" y=\"-379.8\" font-family=\"Helvetica,sans-Serif\" font-size=\"14.00\" fill=\"#000000\">samples = 6</text>\n",
       "<text text-anchor=\"middle\" x=\"272.5\" y=\"-364.8\" font-family=\"Helvetica,sans-Serif\" font-size=\"14.00\" fill=\"#000000\">value = [2, 4]</text>\n",
       "<text text-anchor=\"middle\" x=\"272.5\" y=\"-349.8\" font-family=\"Helvetica,sans-Serif\" font-size=\"14.00\" fill=\"#000000\">class = 1</text>\n",
       "</g>\n",
       "<!-- 1 -->\n",
       "<g id=\"node2\" class=\"node\">\n",
       "<title>1</title>\n",
       "<path fill=\"#ffffff\" stroke=\"#000000\" d=\"M252,-306C252,-306 181,-306 181,-306 175,-306 169,-300 169,-294 169,-294 169,-235 169,-235 169,-229 175,-223 181,-223 181,-223 252,-223 252,-223 258,-223 264,-229 264,-235 264,-235 264,-294 264,-294 264,-300 258,-306 252,-306\"/>\n",
       "<text text-anchor=\"middle\" x=\"216.5\" y=\"-290.8\" font-family=\"Helvetica,sans-Serif\" font-size=\"14.00\" fill=\"#000000\">x1 &lt;= 1.5</text>\n",
       "<text text-anchor=\"middle\" x=\"216.5\" y=\"-275.8\" font-family=\"Helvetica,sans-Serif\" font-size=\"14.00\" fill=\"#000000\">gini = 0.5</text>\n",
       "<text text-anchor=\"middle\" x=\"216.5\" y=\"-260.8\" font-family=\"Helvetica,sans-Serif\" font-size=\"14.00\" fill=\"#000000\">samples = 4</text>\n",
       "<text text-anchor=\"middle\" x=\"216.5\" y=\"-245.8\" font-family=\"Helvetica,sans-Serif\" font-size=\"14.00\" fill=\"#000000\">value = [2, 2]</text>\n",
       "<text text-anchor=\"middle\" x=\"216.5\" y=\"-230.8\" font-family=\"Helvetica,sans-Serif\" font-size=\"14.00\" fill=\"#000000\">class = 0</text>\n",
       "</g>\n",
       "<!-- 0&#45;&gt;1 -->\n",
       "<g id=\"edge1\" class=\"edge\">\n",
       "<title>0&#45;&gt;1</title>\n",
       "<path fill=\"none\" stroke=\"#000000\" d=\"M252.9139,-341.8796C248.8876,-333.3236 244.6053,-324.2238 240.4451,-315.3833\"/>\n",
       "<polygon fill=\"#000000\" stroke=\"#000000\" points=\"243.5946,-313.856 236.1697,-306.2981 237.2608,-316.8366 243.5946,-313.856\"/>\n",
       "<text text-anchor=\"middle\" x=\"227.7017\" y=\"-326.1203\" font-family=\"Helvetica,sans-Serif\" font-size=\"14.00\" fill=\"#000000\">True</text>\n",
       "</g>\n",
       "<!-- 8 -->\n",
       "<g id=\"node9\" class=\"node\">\n",
       "<title>8</title>\n",
       "<path fill=\"#399de5\" stroke=\"#000000\" d=\"M365,-298.5C365,-298.5 294,-298.5 294,-298.5 288,-298.5 282,-292.5 282,-286.5 282,-286.5 282,-242.5 282,-242.5 282,-236.5 288,-230.5 294,-230.5 294,-230.5 365,-230.5 365,-230.5 371,-230.5 377,-236.5 377,-242.5 377,-242.5 377,-286.5 377,-286.5 377,-292.5 371,-298.5 365,-298.5\"/>\n",
       "<text text-anchor=\"middle\" x=\"329.5\" y=\"-283.3\" font-family=\"Helvetica,sans-Serif\" font-size=\"14.00\" fill=\"#000000\">gini = 0.0</text>\n",
       "<text text-anchor=\"middle\" x=\"329.5\" y=\"-268.3\" font-family=\"Helvetica,sans-Serif\" font-size=\"14.00\" fill=\"#000000\">samples = 2</text>\n",
       "<text text-anchor=\"middle\" x=\"329.5\" y=\"-253.3\" font-family=\"Helvetica,sans-Serif\" font-size=\"14.00\" fill=\"#000000\">value = [0, 2]</text>\n",
       "<text text-anchor=\"middle\" x=\"329.5\" y=\"-238.3\" font-family=\"Helvetica,sans-Serif\" font-size=\"14.00\" fill=\"#000000\">class = 1</text>\n",
       "</g>\n",
       "<!-- 0&#45;&gt;8 -->\n",
       "<g id=\"edge8\" class=\"edge\">\n",
       "<title>0&#45;&gt;8</title>\n",
       "<path fill=\"none\" stroke=\"#000000\" d=\"M292.4358,-341.8796C297.7029,-330.8835 303.4001,-318.9893 308.711,-307.9015\"/>\n",
       "<polygon fill=\"#000000\" stroke=\"#000000\" points=\"311.9,-309.3457 313.0634,-298.8149 305.5869,-306.3217 311.9,-309.3457\"/>\n",
       "<text text-anchor=\"middle\" x=\"321.3699\" y=\"-318.6946\" font-family=\"Helvetica,sans-Serif\" font-size=\"14.00\" fill=\"#000000\">False</text>\n",
       "</g>\n",
       "<!-- 2 -->\n",
       "<g id=\"node3\" class=\"node\">\n",
       "<title>2</title>\n",
       "<path fill=\"#ffffff\" stroke=\"#000000\" d=\"M196,-187C196,-187 125,-187 125,-187 119,-187 113,-181 113,-175 113,-175 113,-116 113,-116 113,-110 119,-104 125,-104 125,-104 196,-104 196,-104 202,-104 208,-110 208,-116 208,-116 208,-175 208,-175 208,-181 202,-187 196,-187\"/>\n",
       "<text text-anchor=\"middle\" x=\"160.5\" y=\"-171.8\" font-family=\"Helvetica,sans-Serif\" font-size=\"14.00\" fill=\"#000000\">x2 &lt;= 1.5</text>\n",
       "<text text-anchor=\"middle\" x=\"160.5\" y=\"-156.8\" font-family=\"Helvetica,sans-Serif\" font-size=\"14.00\" fill=\"#000000\">gini = 0.5</text>\n",
       "<text text-anchor=\"middle\" x=\"160.5\" y=\"-141.8\" font-family=\"Helvetica,sans-Serif\" font-size=\"14.00\" fill=\"#000000\">samples = 2</text>\n",
       "<text text-anchor=\"middle\" x=\"160.5\" y=\"-126.8\" font-family=\"Helvetica,sans-Serif\" font-size=\"14.00\" fill=\"#000000\">value = [1, 1]</text>\n",
       "<text text-anchor=\"middle\" x=\"160.5\" y=\"-111.8\" font-family=\"Helvetica,sans-Serif\" font-size=\"14.00\" fill=\"#000000\">class = 0</text>\n",
       "</g>\n",
       "<!-- 1&#45;&gt;2 -->\n",
       "<g id=\"edge2\" class=\"edge\">\n",
       "<title>1&#45;&gt;2</title>\n",
       "<path fill=\"none\" stroke=\"#000000\" d=\"M196.9139,-222.8796C192.8876,-214.3236 188.6053,-205.2238 184.4451,-196.3833\"/>\n",
       "<polygon fill=\"#000000\" stroke=\"#000000\" points=\"187.5946,-194.856 180.1697,-187.2981 181.2608,-197.8366 187.5946,-194.856\"/>\n",
       "</g>\n",
       "<!-- 5 -->\n",
       "<g id=\"node6\" class=\"node\">\n",
       "<title>5</title>\n",
       "<path fill=\"#ffffff\" stroke=\"#000000\" d=\"M309,-187C309,-187 238,-187 238,-187 232,-187 226,-181 226,-175 226,-175 226,-116 226,-116 226,-110 232,-104 238,-104 238,-104 309,-104 309,-104 315,-104 321,-110 321,-116 321,-116 321,-175 321,-175 321,-181 315,-187 309,-187\"/>\n",
       "<text text-anchor=\"middle\" x=\"273.5\" y=\"-171.8\" font-family=\"Helvetica,sans-Serif\" font-size=\"14.00\" fill=\"#000000\">x2 &lt;= 1.5</text>\n",
       "<text text-anchor=\"middle\" x=\"273.5\" y=\"-156.8\" font-family=\"Helvetica,sans-Serif\" font-size=\"14.00\" fill=\"#000000\">gini = 0.5</text>\n",
       "<text text-anchor=\"middle\" x=\"273.5\" y=\"-141.8\" font-family=\"Helvetica,sans-Serif\" font-size=\"14.00\" fill=\"#000000\">samples = 2</text>\n",
       "<text text-anchor=\"middle\" x=\"273.5\" y=\"-126.8\" font-family=\"Helvetica,sans-Serif\" font-size=\"14.00\" fill=\"#000000\">value = [1, 1]</text>\n",
       "<text text-anchor=\"middle\" x=\"273.5\" y=\"-111.8\" font-family=\"Helvetica,sans-Serif\" font-size=\"14.00\" fill=\"#000000\">class = 0</text>\n",
       "</g>\n",
       "<!-- 1&#45;&gt;5 -->\n",
       "<g id=\"edge5\" class=\"edge\">\n",
       "<title>1&#45;&gt;5</title>\n",
       "<path fill=\"none\" stroke=\"#000000\" d=\"M236.4358,-222.8796C240.5341,-214.3236 244.8928,-205.2238 249.1273,-196.3833\"/>\n",
       "<polygon fill=\"#000000\" stroke=\"#000000\" points=\"252.3157,-197.8288 253.4791,-187.2981 246.0025,-194.8049 252.3157,-197.8288\"/>\n",
       "</g>\n",
       "<!-- 3 -->\n",
       "<g id=\"node4\" class=\"node\">\n",
       "<title>3</title>\n",
       "<path fill=\"#e58139\" stroke=\"#000000\" d=\"M83,-68C83,-68 12,-68 12,-68 6,-68 0,-62 0,-56 0,-56 0,-12 0,-12 0,-6 6,0 12,0 12,0 83,0 83,0 89,0 95,-6 95,-12 95,-12 95,-56 95,-56 95,-62 89,-68 83,-68\"/>\n",
       "<text text-anchor=\"middle\" x=\"47.5\" y=\"-52.8\" font-family=\"Helvetica,sans-Serif\" font-size=\"14.00\" fill=\"#000000\">gini = 0.0</text>\n",
       "<text text-anchor=\"middle\" x=\"47.5\" y=\"-37.8\" font-family=\"Helvetica,sans-Serif\" font-size=\"14.00\" fill=\"#000000\">samples = 1</text>\n",
       "<text text-anchor=\"middle\" x=\"47.5\" y=\"-22.8\" font-family=\"Helvetica,sans-Serif\" font-size=\"14.00\" fill=\"#000000\">value = [1, 0]</text>\n",
       "<text text-anchor=\"middle\" x=\"47.5\" y=\"-7.8\" font-family=\"Helvetica,sans-Serif\" font-size=\"14.00\" fill=\"#000000\">class = 0</text>\n",
       "</g>\n",
       "<!-- 2&#45;&gt;3 -->\n",
       "<g id=\"edge3\" class=\"edge\">\n",
       "<title>2&#45;&gt;3</title>\n",
       "<path fill=\"none\" stroke=\"#000000\" d=\"M118.423,-103.9815C108.9224,-94.607 98.8387,-84.6572 89.3476,-75.2921\"/>\n",
       "<polygon fill=\"#000000\" stroke=\"#000000\" points=\"91.8011,-72.796 82.2246,-68.2637 86.8845,-77.7787 91.8011,-72.796\"/>\n",
       "</g>\n",
       "<!-- 4 -->\n",
       "<g id=\"node5\" class=\"node\">\n",
       "<title>4</title>\n",
       "<path fill=\"#399de5\" stroke=\"#000000\" d=\"M196,-68C196,-68 125,-68 125,-68 119,-68 113,-62 113,-56 113,-56 113,-12 113,-12 113,-6 119,0 125,0 125,0 196,0 196,0 202,0 208,-6 208,-12 208,-12 208,-56 208,-56 208,-62 202,-68 196,-68\"/>\n",
       "<text text-anchor=\"middle\" x=\"160.5\" y=\"-52.8\" font-family=\"Helvetica,sans-Serif\" font-size=\"14.00\" fill=\"#000000\">gini = 0.0</text>\n",
       "<text text-anchor=\"middle\" x=\"160.5\" y=\"-37.8\" font-family=\"Helvetica,sans-Serif\" font-size=\"14.00\" fill=\"#000000\">samples = 1</text>\n",
       "<text text-anchor=\"middle\" x=\"160.5\" y=\"-22.8\" font-family=\"Helvetica,sans-Serif\" font-size=\"14.00\" fill=\"#000000\">value = [0, 1]</text>\n",
       "<text text-anchor=\"middle\" x=\"160.5\" y=\"-7.8\" font-family=\"Helvetica,sans-Serif\" font-size=\"14.00\" fill=\"#000000\">class = 1</text>\n",
       "</g>\n",
       "<!-- 2&#45;&gt;4 -->\n",
       "<g id=\"edge4\" class=\"edge\">\n",
       "<title>2&#45;&gt;4</title>\n",
       "<path fill=\"none\" stroke=\"#000000\" d=\"M160.5,-103.9815C160.5,-95.618 160.5,-86.7965 160.5,-78.3409\"/>\n",
       "<polygon fill=\"#000000\" stroke=\"#000000\" points=\"164.0001,-78.2636 160.5,-68.2637 157.0001,-78.2637 164.0001,-78.2636\"/>\n",
       "</g>\n",
       "<!-- 6 -->\n",
       "<g id=\"node7\" class=\"node\">\n",
       "<title>6</title>\n",
       "<path fill=\"#399de5\" stroke=\"#000000\" d=\"M309,-68C309,-68 238,-68 238,-68 232,-68 226,-62 226,-56 226,-56 226,-12 226,-12 226,-6 232,0 238,0 238,0 309,0 309,0 315,0 321,-6 321,-12 321,-12 321,-56 321,-56 321,-62 315,-68 309,-68\"/>\n",
       "<text text-anchor=\"middle\" x=\"273.5\" y=\"-52.8\" font-family=\"Helvetica,sans-Serif\" font-size=\"14.00\" fill=\"#000000\">gini = 0.0</text>\n",
       "<text text-anchor=\"middle\" x=\"273.5\" y=\"-37.8\" font-family=\"Helvetica,sans-Serif\" font-size=\"14.00\" fill=\"#000000\">samples = 1</text>\n",
       "<text text-anchor=\"middle\" x=\"273.5\" y=\"-22.8\" font-family=\"Helvetica,sans-Serif\" font-size=\"14.00\" fill=\"#000000\">value = [0, 1]</text>\n",
       "<text text-anchor=\"middle\" x=\"273.5\" y=\"-7.8\" font-family=\"Helvetica,sans-Serif\" font-size=\"14.00\" fill=\"#000000\">class = 1</text>\n",
       "</g>\n",
       "<!-- 5&#45;&gt;6 -->\n",
       "<g id=\"edge6\" class=\"edge\">\n",
       "<title>5&#45;&gt;6</title>\n",
       "<path fill=\"none\" stroke=\"#000000\" d=\"M273.5,-103.9815C273.5,-95.618 273.5,-86.7965 273.5,-78.3409\"/>\n",
       "<polygon fill=\"#000000\" stroke=\"#000000\" points=\"277.0001,-78.2636 273.5,-68.2637 270.0001,-78.2637 277.0001,-78.2636\"/>\n",
       "</g>\n",
       "<!-- 7 -->\n",
       "<g id=\"node8\" class=\"node\">\n",
       "<title>7</title>\n",
       "<path fill=\"#e58139\" stroke=\"#000000\" d=\"M422,-68C422,-68 351,-68 351,-68 345,-68 339,-62 339,-56 339,-56 339,-12 339,-12 339,-6 345,0 351,0 351,0 422,0 422,0 428,0 434,-6 434,-12 434,-12 434,-56 434,-56 434,-62 428,-68 422,-68\"/>\n",
       "<text text-anchor=\"middle\" x=\"386.5\" y=\"-52.8\" font-family=\"Helvetica,sans-Serif\" font-size=\"14.00\" fill=\"#000000\">gini = 0.0</text>\n",
       "<text text-anchor=\"middle\" x=\"386.5\" y=\"-37.8\" font-family=\"Helvetica,sans-Serif\" font-size=\"14.00\" fill=\"#000000\">samples = 1</text>\n",
       "<text text-anchor=\"middle\" x=\"386.5\" y=\"-22.8\" font-family=\"Helvetica,sans-Serif\" font-size=\"14.00\" fill=\"#000000\">value = [1, 0]</text>\n",
       "<text text-anchor=\"middle\" x=\"386.5\" y=\"-7.8\" font-family=\"Helvetica,sans-Serif\" font-size=\"14.00\" fill=\"#000000\">class = 0</text>\n",
       "</g>\n",
       "<!-- 5&#45;&gt;7 -->\n",
       "<g id=\"edge7\" class=\"edge\">\n",
       "<title>5&#45;&gt;7</title>\n",
       "<path fill=\"none\" stroke=\"#000000\" d=\"M315.577,-103.9815C325.0776,-94.607 335.1613,-84.6572 344.6524,-75.2921\"/>\n",
       "<polygon fill=\"#000000\" stroke=\"#000000\" points=\"347.1155,-77.7787 351.7754,-68.2637 342.1989,-72.796 347.1155,-77.7787\"/>\n",
       "</g>\n",
       "</g>\n",
       "</svg>\n"
      ],
      "text/plain": [
       "<graphviz.files.Source at 0x798552b21a00>"
      ]
     },
     "execution_count": 6,
     "metadata": {},
     "output_type": "execute_result"
    }
   ],
   "source": [
    "# Export as dot\n",
    "dot_data = export_graphviz(tree, 'tree.dot', rounded=True, feature_names = ('x1', 'x2'), \n",
    "                class_names = ('0', '1'), filled=True, impurity=True)\n",
    "\n",
    "Source.from_file(\"tree.dot\")"
   ]
  },
  {
   "cell_type": "markdown",
   "metadata": {},
   "source": [
    "# Real Dataset using Decision Trees\n",
    "The following data set is from the Centers of Disease Control and Prevention (CDC) and includes socioeconomic and lifestyle indicators for hundreds of thousands of individuals."
   ]
  },
  {
   "cell_type": "markdown",
   "metadata": {},
   "source": [
    "Download the '2015.csv' dataset from Moodle."
   ]
  },
  {
   "cell_type": "code",
   "execution_count": 7,
   "metadata": {
    "ExecuteTime": {
     "end_time": "2019-01-07T16:11:58.492445Z",
     "start_time": "2019-01-07T16:11:09.320590Z"
    }
   },
   "outputs": [
    {
     "data": {
      "text/html": [
       "<div>\n",
       "<style scoped>\n",
       "    .dataframe tbody tr th:only-of-type {\n",
       "        vertical-align: middle;\n",
       "    }\n",
       "\n",
       "    .dataframe tbody tr th {\n",
       "        vertical-align: top;\n",
       "    }\n",
       "\n",
       "    .dataframe thead th {\n",
       "        text-align: right;\n",
       "    }\n",
       "</style>\n",
       "<table border=\"1\" class=\"dataframe\">\n",
       "  <thead>\n",
       "    <tr style=\"text-align: right;\">\n",
       "      <th></th>\n",
       "      <th>_STATE</th>\n",
       "      <th>FMONTH</th>\n",
       "      <th>DISPCODE</th>\n",
       "      <th>SEQNO</th>\n",
       "      <th>_PSU</th>\n",
       "      <th>PERSDOC2</th>\n",
       "      <th>MEDCOST</th>\n",
       "      <th>CHECKUP1</th>\n",
       "      <th>BPHIGH4</th>\n",
       "      <th>BLOODCHO</th>\n",
       "      <th>...</th>\n",
       "      <th>_PACAT1</th>\n",
       "      <th>_PAINDX1</th>\n",
       "      <th>_PA150R2</th>\n",
       "      <th>_PA300R2</th>\n",
       "      <th>_PA30021</th>\n",
       "      <th>_PASTRNG</th>\n",
       "      <th>_PAREC1</th>\n",
       "      <th>_PASTAE1</th>\n",
       "      <th>_RFSEAT2</th>\n",
       "      <th>_RFSEAT3</th>\n",
       "    </tr>\n",
       "  </thead>\n",
       "  <tbody>\n",
       "    <tr>\n",
       "      <th>0</th>\n",
       "      <td>1.0</td>\n",
       "      <td>1.0</td>\n",
       "      <td>1200.0</td>\n",
       "      <td>2.015000e+09</td>\n",
       "      <td>2.015000e+09</td>\n",
       "      <td>1.0</td>\n",
       "      <td>2.0</td>\n",
       "      <td>1.0</td>\n",
       "      <td>1.0</td>\n",
       "      <td>1.0</td>\n",
       "      <td>...</td>\n",
       "      <td>4.0</td>\n",
       "      <td>2.0</td>\n",
       "      <td>3.0</td>\n",
       "      <td>3.0</td>\n",
       "      <td>2.0</td>\n",
       "      <td>2.0</td>\n",
       "      <td>4.0</td>\n",
       "      <td>2.0</td>\n",
       "      <td>1.0</td>\n",
       "      <td>1.0</td>\n",
       "    </tr>\n",
       "    <tr>\n",
       "      <th>1</th>\n",
       "      <td>1.0</td>\n",
       "      <td>1.0</td>\n",
       "      <td>1100.0</td>\n",
       "      <td>2.015000e+09</td>\n",
       "      <td>2.015000e+09</td>\n",
       "      <td>1.0</td>\n",
       "      <td>1.0</td>\n",
       "      <td>4.0</td>\n",
       "      <td>3.0</td>\n",
       "      <td>1.0</td>\n",
       "      <td>...</td>\n",
       "      <td>2.0</td>\n",
       "      <td>1.0</td>\n",
       "      <td>1.0</td>\n",
       "      <td>2.0</td>\n",
       "      <td>2.0</td>\n",
       "      <td>2.0</td>\n",
       "      <td>2.0</td>\n",
       "      <td>2.0</td>\n",
       "      <td>2.0</td>\n",
       "      <td>2.0</td>\n",
       "    </tr>\n",
       "    <tr>\n",
       "      <th>2</th>\n",
       "      <td>1.0</td>\n",
       "      <td>1.0</td>\n",
       "      <td>1200.0</td>\n",
       "      <td>2.015000e+09</td>\n",
       "      <td>2.015000e+09</td>\n",
       "      <td>2.0</td>\n",
       "      <td>2.0</td>\n",
       "      <td>1.0</td>\n",
       "      <td>3.0</td>\n",
       "      <td>1.0</td>\n",
       "      <td>...</td>\n",
       "      <td>9.0</td>\n",
       "      <td>9.0</td>\n",
       "      <td>9.0</td>\n",
       "      <td>9.0</td>\n",
       "      <td>9.0</td>\n",
       "      <td>9.0</td>\n",
       "      <td>9.0</td>\n",
       "      <td>9.0</td>\n",
       "      <td>9.0</td>\n",
       "      <td>9.0</td>\n",
       "    </tr>\n",
       "    <tr>\n",
       "      <th>3</th>\n",
       "      <td>1.0</td>\n",
       "      <td>1.0</td>\n",
       "      <td>1100.0</td>\n",
       "      <td>2.015000e+09</td>\n",
       "      <td>2.015000e+09</td>\n",
       "      <td>2.0</td>\n",
       "      <td>1.0</td>\n",
       "      <td>1.0</td>\n",
       "      <td>1.0</td>\n",
       "      <td>1.0</td>\n",
       "      <td>...</td>\n",
       "      <td>4.0</td>\n",
       "      <td>2.0</td>\n",
       "      <td>3.0</td>\n",
       "      <td>3.0</td>\n",
       "      <td>2.0</td>\n",
       "      <td>2.0</td>\n",
       "      <td>4.0</td>\n",
       "      <td>2.0</td>\n",
       "      <td>1.0</td>\n",
       "      <td>1.0</td>\n",
       "    </tr>\n",
       "    <tr>\n",
       "      <th>4</th>\n",
       "      <td>1.0</td>\n",
       "      <td>1.0</td>\n",
       "      <td>1100.0</td>\n",
       "      <td>2.015000e+09</td>\n",
       "      <td>2.015000e+09</td>\n",
       "      <td>1.0</td>\n",
       "      <td>2.0</td>\n",
       "      <td>1.0</td>\n",
       "      <td>3.0</td>\n",
       "      <td>1.0</td>\n",
       "      <td>...</td>\n",
       "      <td>4.0</td>\n",
       "      <td>2.0</td>\n",
       "      <td>3.0</td>\n",
       "      <td>3.0</td>\n",
       "      <td>2.0</td>\n",
       "      <td>2.0</td>\n",
       "      <td>4.0</td>\n",
       "      <td>2.0</td>\n",
       "      <td>1.0</td>\n",
       "      <td>1.0</td>\n",
       "    </tr>\n",
       "  </tbody>\n",
       "</table>\n",
       "<p>5 rows × 87 columns</p>\n",
       "</div>"
      ],
      "text/plain": [
       "   _STATE  FMONTH  DISPCODE         SEQNO          _PSU  PERSDOC2  MEDCOST  \\\n",
       "0     1.0     1.0    1200.0  2.015000e+09  2.015000e+09       1.0      2.0   \n",
       "1     1.0     1.0    1100.0  2.015000e+09  2.015000e+09       1.0      1.0   \n",
       "2     1.0     1.0    1200.0  2.015000e+09  2.015000e+09       2.0      2.0   \n",
       "3     1.0     1.0    1100.0  2.015000e+09  2.015000e+09       2.0      1.0   \n",
       "4     1.0     1.0    1100.0  2.015000e+09  2.015000e+09       1.0      2.0   \n",
       "\n",
       "   CHECKUP1  BPHIGH4  BLOODCHO  ...  _PACAT1  _PAINDX1  _PA150R2  _PA300R2  \\\n",
       "0       1.0      1.0       1.0  ...      4.0       2.0       3.0       3.0   \n",
       "1       4.0      3.0       1.0  ...      2.0       1.0       1.0       2.0   \n",
       "2       1.0      3.0       1.0  ...      9.0       9.0       9.0       9.0   \n",
       "3       1.0      1.0       1.0  ...      4.0       2.0       3.0       3.0   \n",
       "4       1.0      3.0       1.0  ...      4.0       2.0       3.0       3.0   \n",
       "\n",
       "   _PA30021  _PASTRNG  _PAREC1  _PASTAE1  _RFSEAT2  _RFSEAT3  \n",
       "0       2.0       2.0      4.0       2.0       1.0       1.0  \n",
       "1       2.0       2.0      2.0       2.0       2.0       2.0  \n",
       "2       9.0       9.0      9.0       9.0       9.0       9.0  \n",
       "3       2.0       2.0      4.0       2.0       1.0       1.0  \n",
       "4       2.0       2.0      4.0       2.0       1.0       1.0  \n",
       "\n",
       "[5 rows x 87 columns]"
      ]
     },
     "execution_count": 7,
     "metadata": {},
     "output_type": "execute_result"
    }
   ],
   "source": [
    "# read data: nothing to do here\n",
    "# df = pd.read_csv('2015_health.csv').sample(100000, random_state=RSEED)\n",
    "df = pd.read_csv('2015_health.csv', nrows=10_000)\n",
    "\n",
    "# Only select floating/integer features (no strings) \n",
    "df = df.select_dtypes(['float'])\n",
    "\n",
    "# Replace value 2 of feature '_RFHLTH' with 0\n",
    "df['_RFHLTH'] = df['_RFHLTH'].replace({2: 0})\n",
    "df = df.loc[df['_RFHLTH'].isin([0, 1])].copy()\n",
    "\n",
    "# Remove columns with missing values\n",
    "df = df.drop(columns = ['POORHLTH', 'PHYSHLTH', 'GENHLTH', 'PAINACT2', \n",
    "                        'QLMENTL2', 'QLSTRES2', 'QLHLTH2', 'HLTHPLN1', 'MENTHLTH'])\n",
    "df = df.dropna(axis=1, how='any')\n",
    "df.head()"
   ]
  },
  {
   "cell_type": "code",
   "execution_count": 8,
   "metadata": {
    "ExecuteTime": {
     "end_time": "2019-01-07T16:11:58.926310Z",
     "start_time": "2019-01-07T16:11:58.494432Z"
    }
   },
   "outputs": [],
   "source": [
    "# Extract the labels\n",
    "labels = np.array(df.pop('_RFHLTH'))\n",
    "\n",
    "# 30% examples in test data\n",
    "train, test, train_labels, test_labels = train_test_split(\n",
    "    df, labels, stratify=labels, test_size=0.3, random_state=RSEED)"
   ]
  },
  {
   "cell_type": "code",
   "execution_count": 9,
   "metadata": {
    "ExecuteTime": {
     "end_time": "2019-01-07T16:12:09.807166Z",
     "start_time": "2019-01-07T16:11:58.927251Z"
    }
   },
   "outputs": [
    {
     "name": "stdout",
     "output_type": "stream",
     "text": [
      "Decision tree has 1999 nodes with maximum depth 27.\n"
     ]
    }
   ],
   "source": [
    "# TODO: Train the decision tree\n",
    "tree.fit(train, train_labels)\n",
    "print(f'Decision tree has {tree.tree_.node_count} nodes with maximum depth {tree.tree_.max_depth}.')"
   ]
  },
  {
   "cell_type": "code",
   "execution_count": 10,
   "metadata": {
    "ExecuteTime": {
     "end_time": "2019-01-07T16:12:09.863022Z",
     "start_time": "2019-01-07T16:12:09.809134Z"
    }
   },
   "outputs": [],
   "source": [
    "# Make probability predictions\n",
    "probs = tree.predict_proba(test)[:, 1]"
   ]
  },
  {
   "cell_type": "code",
   "execution_count": 11,
   "metadata": {
    "ExecuteTime": {
     "end_time": "2019-01-07T16:12:09.873960Z",
     "start_time": "2019-01-07T16:12:09.864984Z"
    }
   },
   "outputs": [],
   "source": [
    "def plot_ROC_curve(probs: np.ndarray, method: str = 'Decision tree'):\n",
    "    tpr, fpr, threshold = roc_curve(test_labels, probs)\n",
    "    plt.figure(figsize=(10, 10))\n",
    "    plt.plot([0, 1], [0, 1], 'darkgray', label='PLR=1', dashes=[2, 2], linewidth=3)\n",
    "    plt.plot(tpr, fpr, 'lightgreen', label=method, linewidth=3)\n",
    "    plt.title('ROC curve', fontsize=16)\n",
    "    plt.xlabel('FPR')\n",
    "    plt.ylabel('TPR')\n",
    "    plt.legend()\n",
    "    plt.show()\n",
    "    \n",
    "def plot_ROC_curve_all(probs, method):\n",
    "    plt.figure(figsize=(10, 10))\n",
    "    plt.plot([0, 1], [0, 1], 'darkgray', label='PLR=1', dashes=[2, 2], linewidth=3)\n",
    "\n",
    "    for p, m, c in zip(probs, method, ['red', 'lightgreen', 'lightblue', 'yellow']):\n",
    "        tpr, fpr, threshold = roc_curve(test_labels, p)\n",
    "        plt.plot(tpr, fpr, color=c, label=m, linewidth=3)\n",
    "    \n",
    "    plt.title('ROC curve', fontsize=16)\n",
    "    plt.xlabel('FPR')\n",
    "    plt.ylabel('TPR')\n",
    "    plt.legend()\n",
    "    plt.show()"
   ]
  },
  {
   "cell_type": "code",
   "execution_count": 12,
   "metadata": {
    "ExecuteTime": {
     "end_time": "2019-01-07T16:12:10.044420Z",
     "start_time": "2019-01-07T16:12:09.875967Z"
    }
   },
   "outputs": [
    {
     "data": {
      "image/png": "[encoded data removed]",
      "text/plain": [
       "<Figure size 720x720 with 1 Axes>"
      ]
     },
     "metadata": {},
     "output_type": "display_data"
    }
   ],
   "source": [
    "plot_ROC_curve(probs)"
   ]
  },
  {
   "cell_type": "markdown",
   "metadata": {},
   "source": [
    "Random forests can be used to rank the importance of variables in a regression or classification problem in a natural way. To measure the importance of the $j$-th feature after training, the values of the $j$-th feature are permuted among the training data and the error is again computed on this perturbed data set. The importance score for the $j$-th feature is computed by averaging the difference in the error before and after the permutation over all trees. The score is normalized by the standard deviation of these differences."
   ]
  },
  {
   "cell_type": "code",
   "execution_count": 13,
   "metadata": {
    "ExecuteTime": {
     "end_time": "2019-01-07T16:12:10.060347Z",
     "start_time": "2019-01-07T16:12:10.045383Z"
    }
   },
   "outputs": [
    {
     "data": {
      "text/html": [
       "<div>\n",
       "<style scoped>\n",
       "    .dataframe tbody tr th:only-of-type {\n",
       "        vertical-align: middle;\n",
       "    }\n",
       "\n",
       "    .dataframe tbody tr th {\n",
       "        vertical-align: top;\n",
       "    }\n",
       "\n",
       "    .dataframe thead th {\n",
       "        text-align: right;\n",
       "    }\n",
       "</style>\n",
       "<table border=\"1\" class=\"dataframe\">\n",
       "  <thead>\n",
       "    <tr style=\"text-align: right;\">\n",
       "      <th></th>\n",
       "      <th>feature</th>\n",
       "      <th>importance</th>\n",
       "    </tr>\n",
       "  </thead>\n",
       "  <tbody>\n",
       "    <tr>\n",
       "      <th>25</th>\n",
       "      <td>EMPLOY1</td>\n",
       "      <td>0.169435</td>\n",
       "    </tr>\n",
       "    <tr>\n",
       "      <th>34</th>\n",
       "      <td>_LLCPWT</td>\n",
       "      <td>0.056059</td>\n",
       "    </tr>\n",
       "    <tr>\n",
       "      <th>17</th>\n",
       "      <td>HAVARTH3</td>\n",
       "      <td>0.042613</td>\n",
       "    </tr>\n",
       "    <tr>\n",
       "      <th>1</th>\n",
       "      <td>FMONTH</td>\n",
       "      <td>0.037871</td>\n",
       "    </tr>\n",
       "    <tr>\n",
       "      <th>29</th>\n",
       "      <td>_STSTR</td>\n",
       "      <td>0.035684</td>\n",
       "    </tr>\n",
       "    <tr>\n",
       "      <th>16</th>\n",
       "      <td>CHCCOPD1</td>\n",
       "      <td>0.035275</td>\n",
       "    </tr>\n",
       "    <tr>\n",
       "      <th>32</th>\n",
       "      <td>_WT2RAKE</td>\n",
       "      <td>0.034279</td>\n",
       "    </tr>\n",
       "    <tr>\n",
       "      <th>54</th>\n",
       "      <td>_INCOMG</td>\n",
       "      <td>0.031121</td>\n",
       "    </tr>\n",
       "    <tr>\n",
       "      <th>4</th>\n",
       "      <td>_PSU</td>\n",
       "      <td>0.024379</td>\n",
       "    </tr>\n",
       "    <tr>\n",
       "      <th>21</th>\n",
       "      <td>MARITAL</td>\n",
       "      <td>0.022630</td>\n",
       "    </tr>\n",
       "  </tbody>\n",
       "</table>\n",
       "</div>"
      ],
      "text/plain": [
       "     feature  importance\n",
       "25   EMPLOY1    0.169435\n",
       "34   _LLCPWT    0.056059\n",
       "17  HAVARTH3    0.042613\n",
       "1     FMONTH    0.037871\n",
       "29    _STSTR    0.035684\n",
       "16  CHCCOPD1    0.035275\n",
       "32  _WT2RAKE    0.034279\n",
       "54   _INCOMG    0.031121\n",
       "4       _PSU    0.024379\n",
       "21   MARITAL    0.022630"
      ]
     },
     "execution_count": 13,
     "metadata": {},
     "output_type": "execute_result"
    }
   ],
   "source": [
    "fi = pd.DataFrame({'feature': df.columns,\n",
    "                   'importance': tree.feature_importances_}).\\\n",
    "                    sort_values('importance', ascending = False)\n",
    "fi.head(10)"
   ]
  },
  {
   "cell_type": "markdown",
   "metadata": {},
   "source": [
    "# Task 3: Real Dataset using Random Forest <br>\n",
    "Use the RandomForestClassifier with 100 trees and perform the same steps as above <br> (create a model, train, test, plot the ROC curve, print the important features). <br> Discuss your results!"
   ]
  },
  {
   "cell_type": "code",
   "execution_count": 14,
   "metadata": {
    "ExecuteTime": {
     "end_time": "2019-01-07T16:12:20.040150Z",
     "start_time": "2019-01-07T16:12:10.062359Z"
    }
   },
   "outputs": [],
   "source": [
    "model = RandomForestClassifier(n_estimators=100, n_jobs=-1).fit(train, train_labels)"
   ]
  },
  {
   "cell_type": "code",
   "execution_count": 15,
   "metadata": {
    "ExecuteTime": {
     "end_time": "2019-01-07T16:12:20.051119Z",
     "start_time": "2019-01-07T16:12:20.042144Z"
    }
   },
   "outputs": [
    {
     "name": "stdout",
     "output_type": "stream",
     "text": [
      "Average number of nodes: 2041.74\n",
      "Average maximum depth: 26.0\n"
     ]
    }
   ],
   "source": [
    "# Nothing to do here\n",
    "n_nodes = []\n",
    "max_depths = []\n",
    "\n",
    "for ind_tree in model.estimators_:\n",
    "    n_nodes.append(ind_tree.tree_.node_count)\n",
    "    max_depths.append(ind_tree.tree_.max_depth)\n",
    "    \n",
    "print(f'Average number of nodes: {np.mean(n_nodes)}')\n",
    "print(f'Average maximum depth: {np.mean(max_depths)}')"
   ]
  },
  {
   "cell_type": "code",
   "execution_count": 16,
   "metadata": {
    "ExecuteTime": {
     "end_time": "2019-01-07T16:12:20.414325Z",
     "start_time": "2019-01-07T16:12:20.054113Z"
    }
   },
   "outputs": [],
   "source": [
    "rf_probs = model.predict_proba(test)[:, 1]"
   ]
  },
  {
   "cell_type": "code",
   "execution_count": 17,
   "metadata": {
    "ExecuteTime": {
     "end_time": "2019-01-07T16:12:20.611799Z",
     "start_time": "2019-01-07T16:12:20.419313Z"
    }
   },
   "outputs": [
    {
     "data": {
      "image/png": "[encoded data removed]",
      "text/plain": [
       "<Figure size 720x720 with 1 Axes>"
      ]
     },
     "metadata": {},
     "output_type": "display_data"
    }
   ],
   "source": [
    "plot_ROC_curve(rf_probs, 'Random forest')"
   ]
  },
  {
   "cell_type": "code",
   "execution_count": 18,
   "metadata": {
    "ExecuteTime": {
     "end_time": "2019-01-07T16:12:20.734323Z",
     "start_time": "2019-01-07T16:12:20.615787Z"
    }
   },
   "outputs": [
    {
     "data": {
      "text/html": [
       "<div>\n",
       "<style scoped>\n",
       "    .dataframe tbody tr th:only-of-type {\n",
       "        vertical-align: middle;\n",
       "    }\n",
       "\n",
       "    .dataframe tbody tr th {\n",
       "        vertical-align: top;\n",
       "    }\n",
       "\n",
       "    .dataframe thead th {\n",
       "        text-align: right;\n",
       "    }\n",
       "</style>\n",
       "<table border=\"1\" class=\"dataframe\">\n",
       "  <thead>\n",
       "    <tr style=\"text-align: right;\">\n",
       "      <th></th>\n",
       "      <th>feature</th>\n",
       "      <th>importance</th>\n",
       "    </tr>\n",
       "  </thead>\n",
       "  <tbody>\n",
       "    <tr>\n",
       "      <th>25</th>\n",
       "      <td>EMPLOY1</td>\n",
       "      <td>0.078016</td>\n",
       "    </tr>\n",
       "    <tr>\n",
       "      <th>34</th>\n",
       "      <td>_LLCPWT</td>\n",
       "      <td>0.035862</td>\n",
       "    </tr>\n",
       "    <tr>\n",
       "      <th>74</th>\n",
       "      <td>FC60_</td>\n",
       "      <td>0.033945</td>\n",
       "    </tr>\n",
       "    <tr>\n",
       "      <th>73</th>\n",
       "      <td>MAXVO2_</td>\n",
       "      <td>0.032275</td>\n",
       "    </tr>\n",
       "    <tr>\n",
       "      <th>54</th>\n",
       "      <td>_INCOMG</td>\n",
       "      <td>0.031152</td>\n",
       "    </tr>\n",
       "    <tr>\n",
       "      <th>17</th>\n",
       "      <td>HAVARTH3</td>\n",
       "      <td>0.029431</td>\n",
       "    </tr>\n",
       "    <tr>\n",
       "      <th>16</th>\n",
       "      <td>CHCCOPD1</td>\n",
       "      <td>0.028709</td>\n",
       "    </tr>\n",
       "    <tr>\n",
       "      <th>4</th>\n",
       "      <td>_PSU</td>\n",
       "      <td>0.028220</td>\n",
       "    </tr>\n",
       "    <tr>\n",
       "      <th>3</th>\n",
       "      <td>SEQNO</td>\n",
       "      <td>0.027952</td>\n",
       "    </tr>\n",
       "    <tr>\n",
       "      <th>49</th>\n",
       "      <td>_AGE80</td>\n",
       "      <td>0.027781</td>\n",
       "    </tr>\n",
       "  </tbody>\n",
       "</table>\n",
       "</div>"
      ],
      "text/plain": [
       "     feature  importance\n",
       "25   EMPLOY1    0.078016\n",
       "34   _LLCPWT    0.035862\n",
       "74     FC60_    0.033945\n",
       "73   MAXVO2_    0.032275\n",
       "54   _INCOMG    0.031152\n",
       "17  HAVARTH3    0.029431\n",
       "16  CHCCOPD1    0.028709\n",
       "4       _PSU    0.028220\n",
       "3      SEQNO    0.027952\n",
       "49    _AGE80    0.027781"
      ]
     },
     "execution_count": 18,
     "metadata": {},
     "output_type": "execute_result"
    }
   ],
   "source": [
    "fi_model = pd.DataFrame({'feature': df.columns, 'importance': model.feature_importances_})\n",
    "fi_model = fi_model.sort_values('importance', ascending=False)\n",
    "fi_model.head(10)"
   ]
  },
  {
   "cell_type": "code",
   "execution_count": 19,
   "metadata": {
    "ExecuteTime": {
     "end_time": "2019-01-07T16:12:20.941807Z",
     "start_time": "2019-01-07T16:12:20.736317Z"
    }
   },
   "outputs": [
    {
     "data": {
      "image/png": "[encoded data removed]",
      "text/plain": [
       "<Figure size 720x720 with 1 Axes>"
      ]
     },
     "metadata": {},
     "output_type": "display_data"
    }
   ],
   "source": [
    "plot_ROC_curve_all([probs, rf_probs], ['Decision Tree', 'Random forest'])"
   ]
  },
  {
   "cell_type": "markdown",
   "metadata": {},
   "source": [
    "## Discussion of Results\n",
    "\n",
    "We can see that a `RandomForest` with `n_estimators=100` performs much better than `DecisionTree`. \n",
    "\n",
    "A `DecisionTree` learns the model by heart (=auswendig lernen) and thus overfits the train data (a lot).\n",
    "\n",
    "A random Tree (100 of them form our `RandomForests`) performs worse on the trainset but retains the ability to predict future data. "
   ]
  },
  {
   "cell_type": "markdown",
   "metadata": {},
   "source": [
    "# Taskb3: Random Forest Optimization through Random Search\n",
    "Performing a grid search to find optimal parameters. Warning: Depending on the chosen grid this might take some time... <br> What are the best parameters? <br> Perform the same steps as above (create a model, train, test, plot the ROC curve, print the important features). <br> Discuss your results! For this purpose, it might be a good idea to display all 4 ROC curves in a single plot."
   ]
  },
  {
   "cell_type": "code",
   "execution_count": 20,
   "metadata": {
    "ExecuteTime": {
     "end_time": "2019-01-07T16:25:59.893845Z",
     "start_time": "2019-01-07T16:12:20.943761Z"
    }
   },
   "outputs": [],
   "source": [
    "# Hyperparameter grid\n",
    "param_grid = {\n",
    "    'n_estimators': np.linspace(10, 200).astype(int),\n",
    "    'max_depth': [None] + list(np.linspace(3, 20).astype(int)),\n",
    "    'max_leaf_nodes': [None] + list(np.linspace(10, 50, 500).astype(int)),\n",
    "    'min_samples_split': [2, 5, 10],\n",
    "    'bootstrap': [True, False]\n",
    "}\n",
    "\n",
    "# Estimator for use in random search\n",
    "estimator = RandomForestClassifier(random_state=RSEED)\n",
    "\n",
    "rs = RandomizedSearchCV(\n",
    "    cv=3,\n",
    "    estimator=estimator,\n",
    "    n_jobs=-1,\n",
    "    random_state=RSEED,\n",
    "    param_distributions=param_grid\n",
    ").fit(train, train_labels)"
   ]
  },
  {
   "cell_type": "code",
   "execution_count": 21,
   "metadata": {
    "ExecuteTime": {
     "end_time": "2019-01-07T16:25:59.903876Z",
     "start_time": "2019-01-07T16:25:59.896837Z"
    }
   },
   "outputs": [
    {
     "data": {
      "text/plain": [
       "{'n_estimators': 29,\n",
       " 'min_samples_split': 10,\n",
       " 'max_leaf_nodes': 46,\n",
       " 'max_depth': 14,\n",
       " 'bootstrap': False}"
      ]
     },
     "execution_count": 21,
     "metadata": {},
     "output_type": "execute_result"
    }
   ],
   "source": [
    "rs.best_params_"
   ]
  },
  {
   "cell_type": "code",
   "execution_count": 22,
   "metadata": {
    "ExecuteTime": {
     "end_time": "2019-01-07T16:25:59.909812Z",
     "start_time": "2019-01-07T16:25:59.905813Z"
    }
   },
   "outputs": [],
   "source": [
    "best_model = rs.best_estimator_"
   ]
  },
  {
   "cell_type": "code",
   "execution_count": 23,
   "metadata": {
    "ExecuteTime": {
     "end_time": "2019-01-07T16:26:00.387474Z",
     "start_time": "2019-01-07T16:25:59.911795Z"
    }
   },
   "outputs": [],
   "source": [
    "rf_probs_3b = best_model.predict_proba(test)[:, 1]"
   ]
  },
  {
   "cell_type": "code",
   "execution_count": 24,
   "metadata": {
    "ExecuteTime": {
     "end_time": "2019-01-07T16:26:00.395418Z",
     "start_time": "2019-01-07T16:26:00.389433Z"
    }
   },
   "outputs": [
    {
     "name": "stdout",
     "output_type": "stream",
     "text": [
      "Average number of nodes: 91\n",
      "Average maximum depth: 10\n"
     ]
    }
   ],
   "source": [
    "n_nodes = []\n",
    "max_depths = []\n",
    "\n",
    "for ind_tree in best_model.estimators_:\n",
    "    n_nodes.append(ind_tree.tree_.node_count)\n",
    "    max_depths.append(ind_tree.tree_.max_depth)\n",
    "    \n",
    "print(f'Average number of nodes: {int(np.mean(n_nodes))}')\n",
    "print(f'Average maximum depth: {int(np.mean(max_depths))}')"
   ]
  },
  {
   "cell_type": "code",
   "execution_count": 25,
   "metadata": {
    "ExecuteTime": {
     "end_time": "2019-01-07T16:26:00.611400Z",
     "start_time": "2019-01-07T16:26:00.403394Z"
    }
   },
   "outputs": [
    {
     "data": {
      "image/png": "[encoded data removed]",
      "text/plain": [
       "<Figure size 720x720 with 1 Axes>"
      ]
     },
     "metadata": {},
     "output_type": "display_data"
    }
   ],
   "source": [
    "plot_ROC_curve_all(\n",
    "    [probs, rf_probs, rf_probs_3b],\n",
    "    ['Decision Tree', 'Random forest', 'Random forest best params']\n",
    ")"
   ]
  },
  {
   "cell_type": "markdown",
   "metadata": {},
   "source": [
    "## Discussion of Results\n",
    "\n",
    "*(Not sure why there should be 4 ROC curves (`DecisionTree`, `RandomForest`, best parameters for `RandomForest`)? $\\implies$ if you already counted the neural net see Task4)*\n",
    "\n",
    "We can see that the `RandomForest` with the **best paramenters** overfits the model more than the default `RandomForest`. \n",
    "\n",
    "| Attribute | best `RandomForest` | default `RandomForest` ([scikit-learn v0.20.2](https://scikit-learn.org/stable/modules/generated/sklearn.ensemble.RandomForestClassifier.html)) |\n",
    "| --- | ------------------------------------- | --- |\n",
    "| n_estimators | `29` | `20` |\n",
    "| min_samples_split | `10` | `2` |\n",
    "| max_leaf_nodes | `46` | unlimited |\n",
    "| max_depth | `14` | Nodes are expanded until all leaves are pure or until all leaves contain less than `min_samples_split samples` |\n",
    "| bootstrap | `True` | `True` |\n",
    "\n",
    "Therefore the default `RandomForest` performs better on the test data. "
   ]
  },
  {
   "cell_type": "markdown",
   "metadata": {},
   "source": [
    "# Task 4: Comparison with Shallow Neural Network\n",
    "For comparison, train a NN on the same dataset. Chose your own parameters! What do you observe? How can these results be interpreted?  "
   ]
  },
  {
   "cell_type": "code",
   "execution_count": 26,
   "metadata": {
    "ExecuteTime": {
     "end_time": "2019-01-07T16:26:19.016850Z",
     "start_time": "2019-01-07T16:26:00.612363Z"
    }
   },
   "outputs": [
    {
     "name": "stdout",
     "output_type": "stream",
     "text": [
      "Training set score: 0.760545193687231\n",
      "Test set score: 0.7603748326639893\n",
      "Proportion of label 1 in dataset: 0.760545193687231\n"
     ]
    },
    {
     "data": {
      "text/plain": [
       "MLPClassifier(activation='logistic', hidden_layer_sizes=125,\n",
       "              learning_rate_init=0.05, max_iter=75, random_state=50,\n",
       "              solver='sgd')"
      ]
     },
     "metadata": {},
     "output_type": "display_data"
    }
   ],
   "source": [
    "@interact(solver=['sgd', 'lbfgs', 'adam'],\n",
    "    activation=['logistic', 'identity', 'tanh', 'relu'],\n",
    "    hidden_layer=IntSlider(min=50, max=200, value=125, step=5),\n",
    "    maxiter=IntSlider(min=50, max=200, value=75, step=5),\n",
    "    learn_rate=FloatSlider(min=0.01, max=0.1, step=0.01, value=0.05),\n",
    "    verbose=[True, False])\n",
    "def mlp_slider(solver: str, activation: str, hidden_layer: int, maxiter: int, learn_rate: float, verbose: bool = False):\n",
    "    mlp = MLPClassifier(learning_rate_init=learn_rate, hidden_layer_sizes=hidden_layer, max_iter=maxiter, solver=solver, activation=activation, random_state=RSEED, verbose=verbose)\n",
    "    mlp.fit(train,train_labels)\n",
    "    \n",
    "    print(f\"Training set score: {mlp.score(train, train_labels)}\")\n",
    "    print(f\"Test set score: {mlp.score(test, test_labels)}\")\n",
    "    print(f\"Proportion of label 1 in dataset: {len(train[train_labels == 1]) / len(train)}\")\n",
    "    return mlp"
   ]
  },
  {
   "cell_type": "code",
   "execution_count": 27,
   "metadata": {
    "ExecuteTime": {
     "end_time": "2019-01-07T16:27:06.194539Z",
     "start_time": "2019-01-07T16:27:05.534390Z"
    }
   },
   "outputs": [
    {
     "name": "stdout",
     "output_type": "stream",
     "text": [
      "Training set score: 0.760545193687231\n",
      "Test set score: 0.7603748326639893\n",
      "Proportion of label 1 in dataset: 0.760545193687231\n"
     ]
    },
    {
     "data": {
      "image/png": "[encoded data removed]",
      "text/plain": [
       "<Figure size 720x720 with 1 Axes>"
      ]
     },
     "metadata": {},
     "output_type": "display_data"
    }
   ],
   "source": [
    "mlp = mlp_slider(solver='sgd', activation='logistic', hidden_layer=200, maxiter=75, learn_rate=0.05)\n",
    "rf_probs_nn = mlp.predict_proba(test)[:, 1]\n",
    "\n",
    "plot_ROC_curve_all([probs, rf_probs, rf_probs_3b, rf_probs_nn], ['Decision Tree', 'Random forest', 'Random forest best params', 'Neural Network'])"
   ]
  },
  {
   "cell_type": "markdown",
   "metadata": {},
   "source": [
    "## Discussion of Results\n",
    "\n",
    "We can observe that the Neural Network does not perform any better than just *the diagonal line* all the time. \n",
    "\n",
    "We can investigate that further:"
   ]
  },
  {
   "cell_type": "code",
   "execution_count": 28,
   "metadata": {
    "ExecuteTime": {
     "end_time": "2019-01-07T16:27:06.657195Z",
     "start_time": "2019-01-07T16:27:06.195537Z"
    }
   },
   "outputs": [
    {
     "data": {
      "text/plain": [
       "array([0.73678894, 0.73678894, 0.73678894, ..., 0.73678894, 0.73678894,\n",
       "       0.73678894])"
      ]
     },
     "execution_count": 28,
     "metadata": {},
     "output_type": "execute_result"
    }
   ],
   "source": [
    "mlp.predict_proba(test)[:, 1]"
   ]
  },
  {
   "cell_type": "markdown",
   "metadata": {},
   "source": [
    "And indeed - the Neural Network returns the same prediction every time. A different parameter setting does not change that behavior at all: While the exact value of the returned values changes, the behavior of returning the same thing all the time does not.   "
   ]
  },
  {
   "cell_type": "code",
   "execution_count": null,
   "metadata": {},
   "outputs": [],
   "source": []
  }
 ],
 "metadata": {
  "kernelspec": {
   "display_name": "Python 3",
   "language": "python",
   "name": "python3"
  },
  "language_info": {
   "codemirror_mode": {
    "name": "ipython",
    "version": 3
   },
   "file_extension": ".py",
   "mimetype": "text/x-python",
   "name": "python",
   "nbconvert_exporter": "python",
   "pygments_lexer": "ipython3",
   "version": "3.8.6"
  },
  "latex_envs": {
   "LaTeX_envs_menu_present": true,
   "autoclose": false,
   "autocomplete": true,
   "bibliofile": "biblio.bib",
   "cite_by": "apalike",
   "current_citInitial": 1,
   "eqLabelWithNumbers": true,
   "eqNumInitial": 1,
   "hotkeys": {
    "equation": "Ctrl-E",
    "itemize": "Ctrl-I"
   },
   "labels_anchors": false,
   "latex_user_defs": false,
   "report_style_numbering": false,
   "user_envs_cfg": false
  },
  "widgets": {
   "application/vnd.jupyter.widget-state+json": {
    "state": {
     "0dcfffb6eb2447a8b7c53c67cff10eb2": {
      "model_module": "@jupyter-widgets/controls",
      "model_module_version": "1.5.0",
      "model_name": "DescriptionStyleModel",
      "state": {
       "_model_module": "@jupyter-widgets/controls",
       "_model_module_version": "1.5.0",
       "_model_name": "DescriptionStyleModel",
       "_view_count": null,
       "_view_module": "@jupyter-widgets/base",
       "_view_module_version": "1.2.0",
       "_view_name": "StyleView",
       "description_width": ""
      }
     },
     "17840a9c304b43249f1a7072476707a6": {
      "model_module": "@jupyter-widgets/controls",
      "model_module_version": "1.5.0",
      "model_name": "DropdownModel",
      "state": {
       "_dom_classes": [],
       "_model_module": "@jupyter-widgets/controls",
       "_model_module_version": "1.5.0",
       "_model_name": "DropdownModel",
       "_options_labels": [
        "True",
        "False"
       ],
       "_view_count": null,
       "_view_module": "@jupyter-widgets/controls",
       "_view_module_version": "1.5.0",
       "_view_name": "DropdownView",
       "description": "verbose",
       "description_tooltip": null,
       "disabled": false,
       "index": 0,
       "layout": "IPY_MODEL_82ac4b9117e54fa6a806ecd200be6a1a",
       "style": "IPY_MODEL_0dcfffb6eb2447a8b7c53c67cff10eb2"
      }
     },
     "21a529f4e8054eff96639c9e7b56891f": {
      "model_module": "@jupyter-widgets/output",
      "model_module_version": "1.0.0",
      "model_name": "OutputModel",
      "state": {
       "_dom_classes": [],
       "_model_module": "@jupyter-widgets/output",
       "_model_module_version": "1.0.0",
       "_model_name": "OutputModel",
       "_view_count": null,
       "_view_module": "@jupyter-widgets/output",
       "_view_module_version": "1.0.0",
       "_view_name": "OutputView",
       "layout": "IPY_MODEL_23864a02a46c4c46b2e1caecfacc7a6a",
       "msg_id": "",
       "outputs": []
      }
     },
     "23864a02a46c4c46b2e1caecfacc7a6a": {
      "model_module": "@jupyter-widgets/base",
      "model_module_version": "1.2.0",
      "model_name": "LayoutModel",
      "state": {
       "_model_module": "@jupyter-widgets/base",
       "_model_module_version": "1.2.0",
       "_model_name": "LayoutModel",
       "_view_count": null,
       "_view_module": "@jupyter-widgets/base",
       "_view_module_version": "1.2.0",
       "_view_name": "LayoutView",
       "align_content": null,
       "align_items": null,
       "align_self": null,
       "border": null,
       "bottom": null,
       "display": null,
       "flex": null,
       "flex_flow": null,
       "grid_area": null,
       "grid_auto_columns": null,
       "grid_auto_flow": null,
       "grid_auto_rows": null,
       "grid_column": null,
       "grid_gap": null,
       "grid_row": null,
       "grid_template_areas": null,
       "grid_template_columns": null,
       "grid_template_rows": null,
       "height": null,
       "justify_content": null,
       "justify_items": null,
       "left": null,
       "margin": null,
       "max_height": null,
       "max_width": null,
       "min_height": null,
       "min_width": null,
       "object_fit": null,
       "object_position": null,
       "order": null,
       "overflow": null,
       "overflow_x": null,
       "overflow_y": null,
       "padding": null,
       "right": null,
       "top": null,
       "visibility": null,
       "width": null
      }
     },
     "393191447dc349bb94425548eb46a2bc": {
      "model_module": "@jupyter-widgets/controls",
      "model_module_version": "1.5.0",
      "model_name": "SliderStyleModel",
      "state": {
       "_model_module": "@jupyter-widgets/controls",
       "_model_module_version": "1.5.0",
       "_model_name": "SliderStyleModel",
       "_view_count": null,
       "_view_module": "@jupyter-widgets/base",
       "_view_module_version": "1.2.0",
       "_view_name": "StyleView",
       "description_width": "",
       "handle_color": null
      }
     },
     "650b3adfc253422d99b261090b8753f2": {
      "model_module": "@jupyter-widgets/base",
      "model_module_version": "1.2.0",
      "model_name": "LayoutModel",
      "state": {
       "_model_module": "@jupyter-widgets/base",
       "_model_module_version": "1.2.0",
       "_model_name": "LayoutModel",
       "_view_count": null,
       "_view_module": "@jupyter-widgets/base",
       "_view_module_version": "1.2.0",
       "_view_name": "LayoutView",
       "align_content": null,
       "align_items": null,
       "align_self": null,
       "border": null,
       "bottom": null,
       "display": null,
       "flex": null,
       "flex_flow": null,
       "grid_area": null,
       "grid_auto_columns": null,
       "grid_auto_flow": null,
       "grid_auto_rows": null,
       "grid_column": null,
       "grid_gap": null,
       "grid_row": null,
       "grid_template_areas": null,
       "grid_template_columns": null,
       "grid_template_rows": null,
       "height": null,
       "justify_content": null,
       "justify_items": null,
       "left": null,
       "margin": null,
       "max_height": null,
       "max_width": null,
       "min_height": null,
       "min_width": null,
       "object_fit": null,
       "object_position": null,
       "order": null,
       "overflow": null,
       "overflow_x": null,
       "overflow_y": null,
       "padding": null,
       "right": null,
       "top": null,
       "visibility": null,
       "width": null
      }
     },
     "6ef4ac8ba2aa48c0a33f916a19dd10e6": {
      "model_module": "@jupyter-widgets/controls",
      "model_module_version": "1.5.0",
      "model_name": "FloatSliderModel",
      "state": {
       "_dom_classes": [],
       "_model_module": "@jupyter-widgets/controls",
       "_model_module_version": "1.5.0",
       "_model_name": "FloatSliderModel",
       "_view_count": null,
       "_view_module": "@jupyter-widgets/controls",
       "_view_module_version": "1.5.0",
       "_view_name": "FloatSliderView",
       "continuous_update": true,
       "description": "learn_rate",
       "description_tooltip": null,
       "disabled": false,
       "layout": "IPY_MODEL_adc75991d84040e0bb566c3e5681d1f2",
       "max": 0.1,
       "min": 0.01,
       "orientation": "horizontal",
       "readout": true,
       "readout_format": ".2f",
       "step": 0.01,
       "style": "IPY_MODEL_f6861195a72c42ce96d46f3d18f6b47c",
       "value": 0.05
      }
     },
     "82ac4b9117e54fa6a806ecd200be6a1a": {
      "model_module": "@jupyter-widgets/base",
      "model_module_version": "1.2.0",
      "model_name": "LayoutModel",
      "state": {
       "_model_module": "@jupyter-widgets/base",
       "_model_module_version": "1.2.0",
       "_model_name": "LayoutModel",
       "_view_count": null,
       "_view_module": "@jupyter-widgets/base",
       "_view_module_version": "1.2.0",
       "_view_name": "LayoutView",
       "align_content": null,
       "align_items": null,
       "align_self": null,
       "border": null,
       "bottom": null,
       "display": null,
       "flex": null,
       "flex_flow": null,
       "grid_area": null,
       "grid_auto_columns": null,
       "grid_auto_flow": null,
       "grid_auto_rows": null,
       "grid_column": null,
       "grid_gap": null,
       "grid_row": null,
       "grid_template_areas": null,
       "grid_template_columns": null,
       "grid_template_rows": null,
       "height": null,
       "justify_content": null,
       "justify_items": null,
       "left": null,
       "margin": null,
       "max_height": null,
       "max_width": null,
       "min_height": null,
       "min_width": null,
       "object_fit": null,
       "object_position": null,
       "order": null,
       "overflow": null,
       "overflow_x": null,
       "overflow_y": null,
       "padding": null,
       "right": null,
       "top": null,
       "visibility": null,
       "width": null
      }
     },
     "8d1c1287abb7489697d6676335b738d2": {
      "model_module": "@jupyter-widgets/base",
      "model_module_version": "1.2.0",
      "model_name": "LayoutModel",
      "state": {
       "_model_module": "@jupyter-widgets/base",
       "_model_module_version": "1.2.0",
       "_model_name": "LayoutModel",
       "_view_count": null,
       "_view_module": "@jupyter-widgets/base",
       "_view_module_version": "1.2.0",
       "_view_name": "LayoutView",
       "align_content": null,
       "align_items": null,
       "align_self": null,
       "border": null,
       "bottom": null,
       "display": null,
       "flex": null,
       "flex_flow": null,
       "grid_area": null,
       "grid_auto_columns": null,
       "grid_auto_flow": null,
       "grid_auto_rows": null,
       "grid_column": null,
       "grid_gap": null,
       "grid_row": null,
       "grid_template_areas": null,
       "grid_template_columns": null,
       "grid_template_rows": null,
       "height": null,
       "justify_content": null,
       "justify_items": null,
       "left": null,
       "margin": null,
       "max_height": null,
       "max_width": null,
       "min_height": null,
       "min_width": null,
       "object_fit": null,
       "object_position": null,
       "order": null,
       "overflow": null,
       "overflow_x": null,
       "overflow_y": null,
       "padding": null,
       "right": null,
       "top": null,
       "visibility": null,
       "width": null
      }
     },
     "91cb482160774d0e894b0b7c63898357": {
      "model_module": "@jupyter-widgets/controls",
      "model_module_version": "1.5.0",
      "model_name": "VBoxModel",
      "state": {
       "_dom_classes": [
        "widget-interact"
       ],
       "_model_module": "@jupyter-widgets/controls",
       "_model_module_version": "1.5.0",
       "_model_name": "VBoxModel",
       "_view_count": null,
       "_view_module": "@jupyter-widgets/controls",
       "_view_module_version": "1.5.0",
       "_view_name": "VBoxView",
       "box_style": "",
       "children": [
        "IPY_MODEL_b33d62412a324995867d063f33bfbf16",
        "IPY_MODEL_c9c499d85b9541d89db2ddb6b52c8b7e",
        "IPY_MODEL_ebd19a9d6ef34475b2817b43c7b020c0",
        "IPY_MODEL_d42329ede1fc46cc8a50724b4833743a",
        "IPY_MODEL_6ef4ac8ba2aa48c0a33f916a19dd10e6",
        "IPY_MODEL_17840a9c304b43249f1a7072476707a6",
        "IPY_MODEL_21a529f4e8054eff96639c9e7b56891f"
       ],
       "layout": "IPY_MODEL_650b3adfc253422d99b261090b8753f2"
      }
     },
     "adc75991d84040e0bb566c3e5681d1f2": {
      "model_module": "@jupyter-widgets/base",
      "model_module_version": "1.2.0",
      "model_name": "LayoutModel",
      "state": {
       "_model_module": "@jupyter-widgets/base",
       "_model_module_version": "1.2.0",
       "_model_name": "LayoutModel",
       "_view_count": null,
       "_view_module": "@jupyter-widgets/base",
       "_view_module_version": "1.2.0",
       "_view_name": "LayoutView",
       "align_content": null,
       "align_items": null,
       "align_self": null,
       "border": null,
       "bottom": null,
       "display": null,
       "flex": null,
       "flex_flow": null,
       "grid_area": null,
       "grid_auto_columns": null,
       "grid_auto_flow": null,
       "grid_auto_rows": null,
       "grid_column": null,
       "grid_gap": null,
       "grid_row": null,
       "grid_template_areas": null,
       "grid_template_columns": null,
       "grid_template_rows": null,
       "height": null,
       "justify_content": null,
       "justify_items": null,
       "left": null,
       "margin": null,
       "max_height": null,
       "max_width": null,
       "min_height": null,
       "min_width": null,
       "object_fit": null,
       "object_position": null,
       "order": null,
       "overflow": null,
       "overflow_x": null,
       "overflow_y": null,
       "padding": null,
       "right": null,
       "top": null,
       "visibility": null,
       "width": null
      }
     },
     "b33d62412a324995867d063f33bfbf16": {
      "model_module": "@jupyter-widgets/controls",
      "model_module_version": "1.5.0",
      "model_name": "DropdownModel",
      "state": {
       "_dom_classes": [],
       "_model_module": "@jupyter-widgets/controls",
       "_model_module_version": "1.5.0",
       "_model_name": "DropdownModel",
       "_options_labels": [
        "sgd",
        "lbfgs",
        "adam"
       ],
       "_view_count": null,
       "_view_module": "@jupyter-widgets/controls",
       "_view_module_version": "1.5.0",
       "_view_name": "DropdownView",
       "description": "solver",
       "description_tooltip": null,
       "disabled": false,
       "index": 0,
       "layout": "IPY_MODEL_b400dce0c928450aa3d29734bc26d909",
       "style": "IPY_MODEL_eeefb5dbf560432180c738f7f07476e2"
      }
     },
     "b400dce0c928450aa3d29734bc26d909": {
      "model_module": "@jupyter-widgets/base",
      "model_module_version": "1.2.0",
      "model_name": "LayoutModel",
      "state": {
       "_model_module": "@jupyter-widgets/base",
       "_model_module_version": "1.2.0",
       "_model_name": "LayoutModel",
       "_view_count": null,
       "_view_module": "@jupyter-widgets/base",
       "_view_module_version": "1.2.0",
       "_view_name": "LayoutView",
       "align_content": null,
       "align_items": null,
       "align_self": null,
       "border": null,
       "bottom": null,
       "display": null,
       "flex": null,
       "flex_flow": null,
       "grid_area": null,
       "grid_auto_columns": null,
       "grid_auto_flow": null,
       "grid_auto_rows": null,
       "grid_column": null,
       "grid_gap": null,
       "grid_row": null,
       "grid_template_areas": null,
       "grid_template_columns": null,
       "grid_template_rows": null,
       "height": null,
       "justify_content": null,
       "justify_items": null,
       "left": null,
       "margin": null,
       "max_height": null,
       "max_width": null,
       "min_height": null,
       "min_width": null,
       "object_fit": null,
       "object_position": null,
       "order": null,
       "overflow": null,
       "overflow_x": null,
       "overflow_y": null,
       "padding": null,
       "right": null,
       "top": null,
       "visibility": null,
       "width": null
      }
     },
     "bfb1dec337c14da685437186b4f39fe4": {
      "model_module": "@jupyter-widgets/controls",
      "model_module_version": "1.5.0",
      "model_name": "SliderStyleModel",
      "state": {
       "_model_module": "@jupyter-widgets/controls",
       "_model_module_version": "1.5.0",
       "_model_name": "SliderStyleModel",
       "_view_count": null,
       "_view_module": "@jupyter-widgets/base",
       "_view_module_version": "1.2.0",
       "_view_name": "StyleView",
       "description_width": "",
       "handle_color": null
      }
     },
     "c134a0dd7cc445788d21d652ffb7a5dc": {
      "model_module": "@jupyter-widgets/base",
      "model_module_version": "1.2.0",
      "model_name": "LayoutModel",
      "state": {
       "_model_module": "@jupyter-widgets/base",
       "_model_module_version": "1.2.0",
       "_model_name": "LayoutModel",
       "_view_count": null,
       "_view_module": "@jupyter-widgets/base",
       "_view_module_version": "1.2.0",
       "_view_name": "LayoutView",
       "align_content": null,
       "align_items": null,
       "align_self": null,
       "border": null,
       "bottom": null,
       "display": null,
       "flex": null,
       "flex_flow": null,
       "grid_area": null,
       "grid_auto_columns": null,
       "grid_auto_flow": null,
       "grid_auto_rows": null,
       "grid_column": null,
       "grid_gap": null,
       "grid_row": null,
       "grid_template_areas": null,
       "grid_template_columns": null,
       "grid_template_rows": null,
       "height": null,
       "justify_content": null,
       "justify_items": null,
       "left": null,
       "margin": null,
       "max_height": null,
       "max_width": null,
       "min_height": null,
       "min_width": null,
       "object_fit": null,
       "object_position": null,
       "order": null,
       "overflow": null,
       "overflow_x": null,
       "overflow_y": null,
       "padding": null,
       "right": null,
       "top": null,
       "visibility": null,
       "width": null
      }
     },
     "c9c499d85b9541d89db2ddb6b52c8b7e": {
      "model_module": "@jupyter-widgets/controls",
      "model_module_version": "1.5.0",
      "model_name": "DropdownModel",
      "state": {
       "_dom_classes": [],
       "_model_module": "@jupyter-widgets/controls",
       "_model_module_version": "1.5.0",
       "_model_name": "DropdownModel",
       "_options_labels": [
        "logistic",
        "identity",
        "tanh",
        "relu"
       ],
       "_view_count": null,
       "_view_module": "@jupyter-widgets/controls",
       "_view_module_version": "1.5.0",
       "_view_name": "DropdownView",
       "description": "activation",
       "description_tooltip": null,
       "disabled": false,
       "index": 0,
       "layout": "IPY_MODEL_c134a0dd7cc445788d21d652ffb7a5dc",
       "style": "IPY_MODEL_dd59bb93a9db469a8b3bee080cf02477"
      }
     },
     "d1c05bc3d4e14a498872740a3df19a0c": {
      "model_module": "@jupyter-widgets/base",
      "model_module_version": "1.2.0",
      "model_name": "LayoutModel",
      "state": {
       "_model_module": "@jupyter-widgets/base",
       "_model_module_version": "1.2.0",
       "_model_name": "LayoutModel",
       "_view_count": null,
       "_view_module": "@jupyter-widgets/base",
       "_view_module_version": "1.2.0",
       "_view_name": "LayoutView",
       "align_content": null,
       "align_items": null,
       "align_self": null,
       "border": null,
       "bottom": null,
       "display": null,
       "flex": null,
       "flex_flow": null,
       "grid_area": null,
       "grid_auto_columns": null,
       "grid_auto_flow": null,
       "grid_auto_rows": null,
       "grid_column": null,
       "grid_gap": null,
       "grid_row": null,
       "grid_template_areas": null,
       "grid_template_columns": null,
       "grid_template_rows": null,
       "height": null,
       "justify_content": null,
       "justify_items": null,
       "left": null,
       "margin": null,
       "max_height": null,
       "max_width": null,
       "min_height": null,
       "min_width": null,
       "object_fit": null,
       "object_position": null,
       "order": null,
       "overflow": null,
       "overflow_x": null,
       "overflow_y": null,
       "padding": null,
       "right": null,
       "top": null,
       "visibility": null,
       "width": null
      }
     },
     "d42329ede1fc46cc8a50724b4833743a": {
      "model_module": "@jupyter-widgets/controls",
      "model_module_version": "1.5.0",
      "model_name": "IntSliderModel",
      "state": {
       "_dom_classes": [],
       "_model_module": "@jupyter-widgets/controls",
       "_model_module_version": "1.5.0",
       "_model_name": "IntSliderModel",
       "_view_count": null,
       "_view_module": "@jupyter-widgets/controls",
       "_view_module_version": "1.5.0",
       "_view_name": "IntSliderView",
       "continuous_update": true,
       "description": "maxiter",
       "description_tooltip": null,
       "disabled": false,
       "layout": "IPY_MODEL_8d1c1287abb7489697d6676335b738d2",
       "max": 200,
       "min": 50,
       "orientation": "horizontal",
       "readout": true,
       "readout_format": "d",
       "step": 5,
       "style": "IPY_MODEL_393191447dc349bb94425548eb46a2bc",
       "value": 75
      }
     },
     "dd59bb93a9db469a8b3bee080cf02477": {
      "model_module": "@jupyter-widgets/controls",
      "model_module_version": "1.5.0",
      "model_name": "DescriptionStyleModel",
      "state": {
       "_model_module": "@jupyter-widgets/controls",
       "_model_module_version": "1.5.0",
       "_model_name": "DescriptionStyleModel",
       "_view_count": null,
       "_view_module": "@jupyter-widgets/base",
       "_view_module_version": "1.2.0",
       "_view_name": "StyleView",
       "description_width": ""
      }
     },
     "ebd19a9d6ef34475b2817b43c7b020c0": {
      "model_module": "@jupyter-widgets/controls",
      "model_module_version": "1.5.0",
      "model_name": "IntSliderModel",
      "state": {
       "_dom_classes": [],
       "_model_module": "@jupyter-widgets/controls",
       "_model_module_version": "1.5.0",
       "_model_name": "IntSliderModel",
       "_view_count": null,
       "_view_module": "@jupyter-widgets/controls",
       "_view_module_version": "1.5.0",
       "_view_name": "IntSliderView",
       "continuous_update": true,
       "description": "hidden_layer",
       "description_tooltip": null,
       "disabled": false,
       "layout": "IPY_MODEL_d1c05bc3d4e14a498872740a3df19a0c",
       "max": 200,
       "min": 50,
       "orientation": "horizontal",
       "readout": true,
       "readout_format": "d",
       "step": 5,
       "style": "IPY_MODEL_bfb1dec337c14da685437186b4f39fe4",
       "value": 125
      }
     },
     "eeefb5dbf560432180c738f7f07476e2": {
      "model_module": "@jupyter-widgets/controls",
      "model_module_version": "1.5.0",
      "model_name": "DescriptionStyleModel",
      "state": {
       "_model_module": "@jupyter-widgets/controls",
       "_model_module_version": "1.5.0",
       "_model_name": "DescriptionStyleModel",
       "_view_count": null,
       "_view_module": "@jupyter-widgets/base",
       "_view_module_version": "1.2.0",
       "_view_name": "StyleView",
       "description_width": ""
      }
     },
     "f6861195a72c42ce96d46f3d18f6b47c": {
      "model_module": "@jupyter-widgets/controls",
      "model_module_version": "1.5.0",
      "model_name": "SliderStyleModel",
      "state": {
       "_model_module": "@jupyter-widgets/controls",
       "_model_module_version": "1.5.0",
       "_model_name": "SliderStyleModel",
       "_view_count": null,
       "_view_module": "@jupyter-widgets/base",
       "_view_module_version": "1.2.0",
       "_view_name": "StyleView",
       "description_width": "",
       "handle_color": null
      }
     }
    },
    "version_major": 2,
    "version_minor": 0
   }
  }
 },
 "nbformat": 4,
 "nbformat_minor": 2
}
