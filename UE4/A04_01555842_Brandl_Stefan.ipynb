{
 "cells": [
  {
   "cell_type": "markdown",
   "metadata": {},
   "source": [
    "# Vanilla Artificial Neural Network\n",
    " <br>\n",
    "### The following exercises are intended to introduce the concept of Artificial Neural Networks (ANN) by presenting mathematical concepts and providing a hands-on example\n",
    "\n",
    "Disclaimer: We restrict the weights to be vectors instead of matrices. This will simplify the calculations. In the lecture you will learn a more general and elegant way of calculating the updates of the parameters (the so called backpropagation algorithm). The following exercises are intended as a warm-up for the things to come :)"
   ]
  },
  {
   "cell_type": "markdown",
   "metadata": {},
   "source": [
    "## Task 1\n",
    "For all tasks below: show Your calculation steps! <br>\n",
    "## Vector Calculus\n",
    "Given are vectors $\\mathbf{a}, \\mathbf{x} \\in \\mathbb{R}^d$ and a matrix $\\mathbf{W} \\in \\mathbb{R}^{m \\times d}$\n",
    "<br>\n",
    "What is <br>\n",
    "(A1)     $\\frac{\\partial \\mathbf{x}}{\\partial \\mathbf{x}} = \n",
    "\\begin{bmatrix} \n",
    "\\frac{\\partial x_1}{\\partial x_1} & \\frac{\\partial x_1}{\\partial x_2} & \\dots & \\frac{\\partial x_1}{\\partial x_d} \\\\ \n",
    "\\frac{\\partial x_2}{\\partial x_1} & \\frac{\\partial x_2}{\\partial x_2} & \\dots & \\frac{\\partial x_2}{\\partial x_d} \\\\ \n",
    "\\vdots & \\vdots & \\ddots & \\vdots \\\\ \n",
    "\\frac{\\partial x_d}{\\partial x_1} & \\frac{\\partial x_d}{\\partial x_1} & \\dots & \\frac{\\partial x_d}{\\partial x_d} \n",
    "\\end{bmatrix} = \n",
    "\\begin{bmatrix} \n",
    "1 & 0 & \\dots & 0 \\\\ \n",
    "0 & 1 & \\dots & 0 \\\\ \n",
    "\\vdots & \\vdots & \\ddots & \\vdots \\\\ \n",
    "0 & 0 & \\dots & 1 \n",
    "\\end{bmatrix} = \n",
    "\\mathbf{E} \\quad \\text{Identity matrix}$\n",
    "\n",
    "(A2)     $\\frac{\\partial \\mathbf{a}^T \\mathbf{x}}{\\partial \\mathbf{x}} \\quad \\text{with chain rule we know} \\\\\n",
    "\\frac{\\partial \\mathbf{a}^T \\mathbf{x}}{\\partial \\mathbf{x}} = \\frac{\\partial \\mathbf{a}^T}{\\partial \\mathbf{x}} \\mathbf{x} + \\frac{\\partial \\mathbf{x}^T}{\\partial \\mathbf{x}} \\mathbf{a} \\\\\n",
    "\\frac{\\partial \\mathbf{a}^T \\mathbf{x}}{\\partial \\mathbf{x}} = \\mathbf{0} + \\frac{\\partial \\mathbf{x}^T}{\\partial \\mathbf{x}} \\mathbf{a} \\\\\n",
    "\\frac{\\partial \\mathbf{a}^T \\mathbf{x}}{\\partial \\mathbf{x}} = \\frac{\\partial \\mathbf{x}^T}{\\partial \\mathbf{x}} \\mathbf{a} \\\\\n",
    "\\frac{\\partial \\mathbf{a}^T \\mathbf{x}}{\\partial \\mathbf{x}} = \\mathbf{E} \\> \\mathbf{a} \\quad \\text{weil} \\quad \\frac{\\partial \\mathbf{x}^T}{\\partial \\mathbf{x}} = \\frac{\\partial \\mathbf{x}}{\\partial \\mathbf{x}^T} \\\\\n",
    "\\frac{\\partial \\mathbf{a}^T \\mathbf{x}}{\\partial \\mathbf{x}} = \\mathbf{a} \n",
    "$ <br>\n",
    "\n",
    "\n",
    "(A3)     $\\frac{\\partial \\mathbf{W} \\mathbf{x}}{\\partial \\mathbf{x}} \\quad \\text{with chain rule we know} \\\\\n",
    "\\frac{\\partial \\mathbf{W} \\mathbf{x}}{\\partial \\mathbf{x}} = \\frac{\\partial \\mathbf{W}}{\\partial \\mathbf{x}} \\mathbf{x} + \\frac{\\partial \\mathbf{x}^T}{\\partial \\mathbf{x}} \\mathbf{W}^T \\\\ \n",
    "\\frac{\\partial \\mathbf{W} \\mathbf{x}}{\\partial \\mathbf{x}} = \\mathbf{0} + \\frac{\\partial \\mathbf{x}^T}{\\partial \\mathbf{x}} \\mathbf{W}^T \\quad \\text{analogously to (A2)} \\\\\n",
    "\\frac{\\partial \\mathbf{W} \\mathbf{x}}{\\partial \\mathbf{x}} = \\mathbf{E} \\> \\mathbf{W}^T \\\\\n",
    "\\frac{\\partial \\mathbf{W} \\mathbf{x}}{\\partial \\mathbf{x}} = \\mathbf{W}^T\n",
    "$<br>\n",
    "\n",
    "\n",
    "## Derivative of activation functions\n",
    "Activation functions are a crucial part of ANNs. You will learn more about them later. For now You should calculate the derivative of two of them.\n",
    "For $t \\in \\mathbb{R}$ <br>\n",
    "(B1) Calculate the derivative of the sigmoid function \n",
    "\\begin{align}\n",
    "    \\sigma(t) &= \\frac{1}{1 + e^{-t}} \\\\\n",
    "    \\sigma(t) &= (1 + e^{-t})^{-1} \\\\\n",
    "    \\\\\n",
    "    \\frac{\\partial \\sigma(t)}{\\partial t} &= \\frac{(1 + e^{-t})^{-1}}{\\partial t} \\\\\n",
    "    &= -(1 + e^{-t})^{-2} \\cdot -e^{-t} \\\\\n",
    "    &= \\frac{e^{-t}}{(1 + e^{-t})^{2}} \\\\\n",
    "    &= \\sigma(t) \\cdot \\frac{e^{-t}}{1 + e^{-t}} \\\\\n",
    "    &= \\sigma(t) \\cdot \\frac{e^{-t} + 1 - 1}{1 + e^{-t}} \\\\\n",
    "    &= \\sigma(t) \\cdot \\frac{1 + e^{-t} - 1}{1 + e^{-t}} \\\\\n",
    "    &= \\sigma(t) \\cdot \\left( \\frac{1 + e^{-t}}{1 + e^{-t}} - \\frac{1}{1 + e^{-t}} \\right) \\\\\n",
    "    &= \\sigma(t) \\cdot \\left( 1 - \\frac{1}{1 + e^{-t}} \\right) \\\\\n",
    "    &= \\sigma(t) \\cdot (1 - \\sigma(t))\n",
    "\\end{align}\n",
    "(B2) Calculate the derivative of the function called \"rectified linear unit\"\n",
    "\n",
    "Convention for (B2): we set the derivative to $0$ at $t=0$.\n",
    "\\begin{align}\n",
    "    f(t) = max\\{0,t\\} =\n",
    "    \\begin{cases}\n",
    "      t & \\text{if}\\ t>0 \\\\\n",
    "      0 & \\text{otherwise}\n",
    "    \\end{cases}\n",
    "\\end{align}\n",
    "\n",
    "\\begin{align}\n",
    "    f'(t) \n",
    "    &=\n",
    "    \\begin{cases}\n",
    "      \\frac{\\partial t}{\\partial t} & \\text{if}\\ t>0 \\\\\n",
    "      0 & \\text{otherwise}\n",
    "    \\end{cases}\n",
    "    &= \n",
    "    \\begin{cases}\n",
    "      1 & \\text{if}\\ t>0 \\\\\n",
    "      0 & \\text{otherwise}\n",
    "    \\end{cases}\n",
    "\\end{align}\n",
    "\n",
    "## Combining the two above\n",
    "Suppose we apply the sigmoid activation function element wise to a vector:\n",
    "\\begin{align}\n",
    "    \\mathbf{a} = \\sigma(\\mathbf{x}) =  (\\sigma(x_i))_{i=1,\\ldots,d} \n",
    "\\end{align}\n",
    "What is <br>\n",
    "(C1)  $\\frac{\\partial \\mathbf{a}}{\\partial \\mathbf{x}} = \n",
    "\\begin{bmatrix} \n",
    "\\frac{\\partial \\sigma(x_1)}{\\partial x_1} & \\frac{\\partial \\sigma(x_1)}{\\partial x_2} & \\dots & \\frac{\\partial \\sigma(x_1)}{\\partial x_d} \\\\ \n",
    "\\frac{\\partial \\sigma(x_2)}{\\partial x_1} & \\frac{\\partial \\sigma(x_2)}{\\partial x_2} & \\dots & \\frac{\\partial \\sigma(x_2)}{\\partial x_d} \\\\ \n",
    "\\vdots & \\vdots & \\ddots & \\vdots \\\\ \n",
    "\\frac{\\partial \\sigma(x_d)}{\\partial x_1} & \\frac{\\partial \\sigma(x_d)}{\\partial x_1} & \\dots & \\frac{\\partial \\sigma(x_d)}{\\partial x_d} \n",
    "\\end{bmatrix} = \n",
    "\\begin{bmatrix} \n",
    "\\sigma(x_1) \\cdot (1 - \\sigma(x_1)) & 0 & \\dots & 0 \\\\ \n",
    "0 & \\sigma(x_2) \\cdot (1 - \\sigma(x_2)) & \\dots & 0 \\\\ \n",
    "\\vdots & \\vdots & \\ddots & \\vdots \\\\ \n",
    "0 & 0 & \\dots & \\sigma(x_d) \\cdot (1 - \\sigma(x_d)) \n",
    "\\end{bmatrix}$\n",
    "<br>\n",
    "\n",
    "(C2) How does the derivative look like if we use the \"rectified linear unit\" instead of the sigmoid function? \n",
    "\n",
    "$\\begin{bmatrix} \n",
    "\\begin{cases}\n",
    "      1 & \\text{if}\\ x_1>0 \\\\\n",
    "      0 & \\text{otherwise}\n",
    "    \\end{cases} & 0 & \\dots & 0 \\\\ \n",
    "0 & \\begin{cases}\n",
    "      1 & \\text{if}\\ x_2>0 \\\\\n",
    "      0 & \\text{otherwise}\n",
    "    \\end{cases} & \\dots & 0 \\\\ \n",
    "\\vdots & \\vdots & \\ddots & \\vdots \\\\ \n",
    "0 & 0 & \\dots & \\begin{cases}\n",
    "      1 & \\text{if}\\ x_d>0 \\\\\n",
    "      0 & \\text{otherwise}\n",
    "    \\end{cases}\n",
    "\\end{bmatrix}$\n"
   ]
  },
  {
   "cell_type": "markdown",
   "metadata": {},
   "source": [
    "We are considering a simple ANN   \n",
    "\\begin{align}\n",
    "f: \\mathbb{R} & \\rightarrow \\mathbb{R} \\\\\n",
    "    x  \\mapsto \\mathbf{w}^{(2)} \\sigma(\\mathbf{w}^{(1)}& x + \\mathbf{b}^{(1)}) + b^{(2)}\n",
    "\\end{align}\n",
    "\n",
    "It consists of one hidden layer $\\mathbf{w}^{(1)} \\in \\mathbb{R}^{d \\times 1}$, one output layer $\\mathbf{w}^{(2)} \\in \\mathbb{R}^{1\\times d}$ and the two biases $\\mathbf{b}^{(1)} \\in \\mathbb{R}^{d}$ and $\\mathbf{b}^{(2)} \\in \\mathbb{R}$ (sometimes also called thresholds). The activation function $\\sigma$ is given by the sigmoid function\n",
    "\\begin{align}\n",
    "\\sigma: \\mathbb{R} \\rightarrow \\mathbb{R} \\\\\n",
    "    t \\mapsto \\frac{1}{1 + e^{-t}}\n",
    "\\end{align}\n",
    "and is applied pointwise to the vector $\\mathbf{w}^{(1)}x + \\mathbf{b}^{(1)}$ (i.e. on every entry).\n",
    "Below there is a depiction of our network $f(x)$.\n",
    "\n",
    "<img src=\"simpleANN.png\">\n",
    "<br>\n",
    "\n",
    "We are given training data $\\mathcal{Z} = \\{ (y_1,x_1), \\ldots, (y_{n},x_{n}) \\}$. The loss for the i-th sample pair is given by the mean squared error:\n",
    "\\begin{align}\n",
    "    L(y_i, x_i) = \\frac{1}{2} (f(x_i)- y_i)^2\n",
    "\\end{align}\n",
    "\n",
    "Hence our setting is a nonlinear regression task."
   ]
  },
  {
   "cell_type": "markdown",
   "metadata": {},
   "source": [
    "## Task 2 - Derive the gradient descent (GD) updates for the parameters\n",
    "To do that, you have to take the derivative of the loss function w.r.t. the parameters:\n",
    "\\begin{align}\n",
    "    \\frac{\\partial L}{\\partial \\mathbf{w}^{(1)}},\n",
    "    \\frac{\\partial L}{\\partial \\mathbf{w}^{(2)}}, \n",
    "    \\frac{\\partial L}{\\partial \\mathbf{b}^{(1)}} \\quad and \\quad\n",
    "    \\frac{d L}{d b^{(2)}}\n",
    "\\end{align}\n",
    "With the learning rate $\\eta$ the gradient descent (GD) update then is given by\n",
    "\\begin{align}\n",
    "    \\mathbf{w}^{(\\bullet)} = \\mathbf{w}^{(\\bullet)} - \\eta \\frac{\\partial L}{\\partial \\mathbf{w}^{(\\bullet)}}\n",
    "\\end{align}\n",
    "and\n",
    "\\begin{align}\n",
    "    \\mathbf{b}^{(\\bullet)} = \\mathbf{b}^{(\\bullet)} - \\eta \\frac{\\partial L}{\\partial \\mathbf{b}^{(\\bullet)}}\n",
    "\\end{align}\n",
    "\n",
    "where the dot $\\bullet$ is a placeholder for 1 and 2.\n",
    "<br>\n",
    "<br>\n",
    "Tipp: use the chain rule! If you feel puzzled by the vector derivative, think it through with one vector element $w_{i}$, i.e. how does $\\frac{\\partial L}{\\partial w_{i}^{(\\bullet)}}$ look like? (where $w_{i}$ is the i-th element of $\\mathbf{w}^{(\\bullet)}$ )\n",
    "\n",
    "\\begin{align}\n",
    "\\frac{\\partial L}{\\partial f(\\mathbf{x})} \n",
    "&= \\frac{\\partial \\frac{1}{2} \\cdot \\left( f(\\mathbf{x})-\\mathbf{y} \\right)^2}{\\partial f(\\mathbf{x})} \\\\\n",
    "&= \\frac{1}{2} \\cdot \\left( \\frac{\\partial (f(\\mathbf{x})-\\mathbf{y})^2}{\\partial f(\\mathbf{x})-\\mathbf{y}} \\right)  \\frac{\\partial f(\\mathbf{x})-\\mathbf{y}}{\\partial f(\\mathbf{x})} \\\\\n",
    "&= (f(\\mathbf{x}) - \\mathbf{y}) \\left( \\frac{\\partial f(\\mathbf{x})}{\\partial f(\\mathbf{x})} - \\frac{\\partial \\mathbf{y}}{\\partial f(\\mathbf{x})} \\right) \\\\\n",
    "&= (f(\\mathbf{x}) - \\mathbf{y}) \\> \\mathbf{E} \\\\\n",
    "&= f(\\mathbf{x}) - \\mathbf{y}\n",
    "\\end{align}\n",
    "\n",
    "---\n",
    "\n",
    "\\begin{align}\n",
    "\\frac{\\partial f(x)}{\\partial \\mathbf{w}^{(1)}} \n",
    "&= \\frac{\\partial{\\mathbf{w}^{(2)}}^T \\sigma(\\mathbf{w}^{(1)} \\mathbf{x} + \\mathbf{b}^{(1)}) + \\mathbf{b}^{(2)}}{\\partial \\mathbf{w}^{(1)}} \\\\\n",
    "&= \\frac{\\partial{\\mathbf{w}^{(2)}}^T \\sigma(\\mathbf{w}^{(1)}\\mathbf{x} + \\mathbf{b}^{(1)})}{\\partial \\mathbf{w}^{(1)}} + \\frac{\\partial \\mathbf{b}^{(2)}}{\\partial \\mathbf{w}^{(1)}} \\\\\n",
    "&= \\frac{\\partial {\\mathbf{w}^{(2)}}^T \\sigma(\\mathbf{w}^{(1)}\\mathbf{x} + \\mathbf{b}^{(1)})}{\\partial  \\sigma(\\mathbf{w}^{(1)}\\mathbf{x} + \\mathbf{b}^{(1)})} \\frac{\\partial \\sigma(\\mathbf{w}^{(1)}\\mathbf{x} + \\mathbf{b}^{(1)})} {\\partial \\mathbf{w}^{(1)}} \\\\\n",
    "&= \\mathbf{w}^{(2)} \\frac{\\partial \\sigma(\\mathbf{w}^{(1)}\\mathbf{x} + \\mathbf{b}^{(1)})}{\\partial \\mathbf{w}^{(1)}\\mathbf{x} + \\mathbf{b}^{(1)}} \\frac{\\partial \\mathbf{w}^{(1)}\\mathbf{x} + \\mathbf{b}^{(1)}} {\\partial \\mathbf{w}^{(1)}} \\\\\n",
    "&= \\mathbf{w}^{(2)} \\sigma(\\mathbf{w}^{(1)}\\mathbf{x} + \\mathbf{b}^{(1)})(\\mathbf{E} - \\sigma(\\mathbf{w}^{(1)}\\mathbf{x}+\\mathbf{b}^{(1)})) \\left(\\frac{\\partial \\mathbf{w}^{(1)}\\mathbf{x}} {\\partial \\mathbf{w}^{(1)}} + \\frac{\\partial \\mathbf{b}^{(1)}} {\\partial \\mathbf{w}^{(1)}}\\right) \\\\\n",
    "&= \\mathbf{w}^{(2)} \\sigma(\\mathbf{w}^{(1)}\\mathbf{x} + \\mathbf{b}^{(1)})(\\mathbf{E} - \\sigma(\\mathbf{w}^{(1)}\\mathbf{x} + \\mathbf{b}^{(1)})) \\mathbf{x}^T\n",
    "\\end{align}\n",
    "\n",
    "\\begin{align}\n",
    "\\implies \\frac{\\partial L}{\\partial \\mathbf{w}^{(1)}} = (f(\\mathbf{x}) - \\mathbf{y}) \\cdot \\mathbf{w}^{(2)} \\sigma(\\mathbf{w}^{(1)}\\mathbf{x} + \\mathbf{b}^{(1)})(\\mathbf{E} - \\sigma(\\mathbf{w}^{(1)}\\mathbf{x} + \\mathbf{b}^{(1)})) \\mathbf{x}^T\n",
    "\\end{align}\n",
    "\n",
    "---\n",
    "\n",
    "\\begin{align}\n",
    "\\frac{\\partial f(x)}{\\partial \\mathbf{b}^{(1)}} &= \\frac{\\partial {\\mathbf{w}^{(2)}}^T \\sigma(\\mathbf{w}^{(1)} \\mathbf{x} + \\mathbf{b}^{(1)} ) + \\mathbf{b}^{(2)} } {\\partial \\mathbf{b}^{(1)}} \\\\\n",
    "&= \\frac{\\partial{\\mathbf{w}^{(2)}}^T \\sigma(\\mathbf{w}^{(1)}\\mathbf{x} + \\mathbf{b}^{(1)}) } {\\partial \\mathbf{b}^{(1)}} + \\frac{\\partial \\mathbf{b}^{(2)}} {\\partial \\mathbf{b}^{(1)}} \\\\\n",
    "&= \\frac{\\partial {\\mathbf{w}^{(2)}}^T \\sigma(\\mathbf{w}^{(1)}\\mathbf{x} + \\mathbf{b}^{(1)}) } {\\partial  \\sigma(\\mathbf{w}^{(1)}\\mathbf{x} + \\mathbf{b}^{(1)})} \\frac{\\partial \\sigma(\\mathbf{w}^{(1)}\\mathbf{x} + \\mathbf{b}^{(1)})} {\\partial \\mathbf{b}^{(1)}} \\\\\n",
    "&= \\mathbf{w}^{(2)} \\frac{\\partial \\sigma(\\mathbf{w}^{(1)}\\mathbf{x} + \\mathbf{b}^{(1)})}{\\partial \\mathbf{w}^{(1)}\\mathbf{x}+\\mathbf{b}^{(1)}} \\frac{\\partial \\mathbf{w}^{(1)}\\mathbf{x} + \\mathbf{b}^{(1)}} {\\partial \\mathbf{b}^{(1)}} \\\\\n",
    "&= \\mathbf{w}^{(2)} \\sigma(\\mathbf{w}^{(1)}\\mathbf{x} + \\mathbf{b}^{(1)})(\\mathbf{E} - \\sigma(\\mathbf{w}^{(1)}\\mathbf{x} + \\mathbf{b}^{(1)})) \\left(\\frac{\\partial \\mathbf{w}^{(1)}\\mathbf{x}} {\\partial \\mathbf{b}^{(1)}} + \\frac{\\partial \\mathbf{b}^{(1)}} {\\partial \\mathbf{b}^{(1)}}\\right) \\\\\n",
    "&= \\mathbf{w}^{(2)} \\sigma(\\mathbf{w}^{(1)}\\mathbf{x} + \\mathbf{b}^{(1)})(\\mathbf{E} - \\sigma(\\mathbf{w}^{(1)}\\mathbf{x} + \\mathbf{b}^{(1)})) \\> \\mathbf{E} \\\\\n",
    "&= \\mathbf{w}^{(2)} \\sigma(\\mathbf{w}^{(1)}\\mathbf{x} + \\mathbf{b}^{(1)})(\\mathbf{E} - \\sigma(\\mathbf{w}^{(1)}\\mathbf{x} + \\mathbf{b}^{(1)}))\n",
    "\\end{align}\n",
    "\n",
    "\\begin{align}\n",
    "\\implies \\frac{\\partial L}{\\partial \\mathbf{b}^{(1)}} = (f(\\mathbf{x}) - \\mathbf{y}) \\cdot \\mathbf{w}^{(2)} \\sigma(\\mathbf{w}^{(1)}\\mathbf{x} + \\mathbf{b}^{(1)})(\\mathbf{E} - \\sigma(\\mathbf{w}^{(1)}\\mathbf{x} + \\mathbf{b}^{(1)}))\n",
    "\\end{align}\n",
    "\n",
    "---\n",
    "\n",
    "\\begin{align}\n",
    "\\frac{\\partial f(x)}{\\partial \\mathbf{w}^{(2)}} \n",
    "&= \\frac{\\partial {\\mathbf{w}^{(2)}}^T \\sigma(\\mathbf{w}^{(1)} \\mathbf{x} + \\mathbf{b}^{(1)} ) + \\mathbf{b}^{(2)}}{\\partial \\mathbf{w}^{(2)}} \\\\\n",
    "&= \\frac{\\partial {\\mathbf{w}^{(2)}}^T \\sigma(\\mathbf{w}^{(1)} \\mathbf{x} + \\mathbf{b}^{(1)})}{\\partial \\mathbf{w}^{(2)}} + \\frac{\\partial \\mathbf{b}^{(2)}}{\\partial \\mathbf{w}^{(2)}} \\\\\n",
    "&= {\\sigma(\\mathbf{w}^{(1)} \\mathbf{x} + \\mathbf{b}^{(1)})}^T \n",
    "\\end{align}\n",
    "\n",
    "\\begin{align}\n",
    "\\implies \\frac{\\partial L}{\\partial \\mathbf{w}^{(2)}} = (f(\\mathbf{x}) - \\mathbf{y}) \\cdot {\\sigma(\\mathbf{w}^{(1)} \\mathbf{x} + \\mathbf{b}^{(1)})}^T\n",
    "\\end{align}\n",
    "\n",
    "---\n",
    "\n",
    "\\begin{align}\n",
    "\\frac{\\partial f(x)}{\\partial \\mathbf{b}^{(2)}} \n",
    "&= \\frac{\\partial {\\mathbf{w}^{(2)}}^T \\sigma(\\mathbf{w}^{(1)} \\mathbf{x} + \\mathbf{b}^{(1)}) + \\mathbf{b}^{(2)}}{\\partial \\mathbf{b}^{(2)}} \\\\\n",
    "&= \\frac{\\partial {\\mathbf{w}^{(2)}}^T \\sigma(\\mathbf{w}^{(1)} \\mathbf{x} + \\mathbf{b}^{(1)})}{\\partial \\mathbf{b}^{(2)}} + \\frac{\\partial \\mathbf{b}^{(2)}}{\\partial \\mathbf{b}^{(2)}} \\\\\n",
    "&= \\mathbf{E}\n",
    "\\end{align}\n",
    "\n",
    "\\begin{align}\n",
    "\\implies \\frac{\\partial L}{\\partial \\mathbf{b}^{(2)}} = f(\\mathbf{x}) - \\mathbf{y}\n",
    "\\end{align}\n",
    "\n",
    "---"
   ]
  },
  {
   "cell_type": "markdown",
   "metadata": {},
   "source": [
    "## Task 3 - implement the forward and backward step\n",
    "Below you are given code you have to fill in"
   ]
  },
  {
   "cell_type": "code",
   "execution_count": 1,
   "metadata": {},
   "outputs": [],
   "source": [
    "import numpy as np\n",
    "from matplotlib import pyplot as plt\n",
    "from scipy.stats import truncnorm"
   ]
  },
  {
   "cell_type": "code",
   "execution_count": 2,
   "metadata": {},
   "outputs": [
    {
     "data": {
      "image/png": "[encoded data removed]",
      "text/plain": [
       "<Figure size 432x288 with 1 Axes>"
      ]
     },
     "metadata": {
      "needs_background": "light"
     },
     "output_type": "display_data"
    }
   ],
   "source": [
    "#\n",
    "# Data generating function\n",
    "# - this is the function we will try to learn\n",
    "# - Nothing to do here for you :)\n",
    "\n",
    "# for simplicity we operate in the interval [-1,1]\n",
    "def get_random_x(num_x):\n",
    "    x = np.random.rand(num_x)*2 - 1\n",
    "    return x\n",
    "\n",
    "# real function we want to approximate\n",
    "def f_orig(x):\n",
    "    return 1.0/(np.exp(-x*x*10)+1)-0.5\n",
    "\n",
    "# noisy version of original function\n",
    "def f_noisy(x, s=0.01):\n",
    "    d = len(x)\n",
    "    return f_orig(x) + np.random.randn(d)*s \n",
    "\n",
    "\n",
    "# plot noisy and original function\n",
    "x_r = get_random_x(100)\n",
    "y_ = f_noisy(x_r)\n",
    "x = np.linspace(-1,1,100)\n",
    "y = f_orig(x)\n",
    "\n",
    "plt.plot(x_r,y_,'o') # noisy\n",
    "plt.plot(x,y,'r') # original\n",
    "plt.show()"
   ]
  },
  {
   "cell_type": "code",
   "execution_count": 3,
   "metadata": {},
   "outputs": [
    {
     "data": {
      "image/png": "[encoded data removed]",
      "text/plain": [
       "<Figure size 432x288 with 1 Axes>"
      ]
     },
     "metadata": {
      "needs_background": "light"
     },
     "output_type": "display_data"
    }
   ],
   "source": [
    "# This is the initialization function for our weights\n",
    "# Nothing to do here for you :)\n",
    "def truncated_normal(mean=0, sd=1, low=0, upp=10):\n",
    "    return truncnorm(\n",
    "        (low - mean) / sd, (upp - mean) / sd, loc=mean, scale=sd)\n",
    "\n",
    "X = truncated_normal(mean=0, sd=1, low=-10, upp=10)\n",
    "plt.hist(X.rvs(10000))\n",
    "plt.show()"
   ]
  },
  {
   "cell_type": "markdown",
   "metadata": {},
   "source": [
    "### 1) Implement the sigmoid activation function!"
   ]
  },
  {
   "cell_type": "code",
   "execution_count": 4,
   "metadata": {},
   "outputs": [
    {
     "data": {
      "image/png": "[encoded data removed]",
      "text/plain": [
       "<Figure size 432x288 with 1 Axes>"
      ]
     },
     "metadata": {
      "needs_background": "light"
     },
     "output_type": "display_data"
    }
   ],
   "source": [
    "# TODO: implement the sigmoid activation function!\n",
    "def sigmoid(x):\n",
    "    return 1 / (1 + np.exp(-x))\n",
    "activation_function = sigmoid\n",
    "\n",
    "# the code below plots your implementation.\n",
    "X = np.linspace(-5, 5, 100)\n",
    "plt.plot(X, sigmoid(X),'b')\n",
    "plt.xlabel('X')\n",
    "plt.ylabel('Y')\n",
    "plt.title('Sigmoid Function')\n",
    "plt.grid()\n",
    "plt.show()"
   ]
  },
  {
   "cell_type": "markdown",
   "metadata": {},
   "source": [
    "### 2) Implement the mean squared error loss function!"
   ]
  },
  {
   "cell_type": "code",
   "execution_count": 5,
   "metadata": {},
   "outputs": [],
   "source": [
    "# TODO: implement the mean squared loss function!\n",
    "#       fx is your network output, y is the real value\n",
    "def mse_loss(fx,y):\n",
    "    return ((fx - y)**2).mean()"
   ]
  },
  {
   "cell_type": "markdown",
   "metadata": {},
   "source": [
    "### 3) Complete the ANN implementation"
   ]
  },
  {
   "cell_type": "code",
   "execution_count": 6,
   "metadata": {},
   "outputs": [],
   "source": [
    "# TODO: implement parts of some methods\n",
    "class NeuralNetwork:\n",
    "    def __init__(self, \n",
    "                 no_of_in_nodes, \n",
    "                 no_of_out_nodes, \n",
    "                 no_of_hidden_nodes,\n",
    "                 learning_rate\n",
    "                ):  \n",
    "        self.no_of_in_nodes = no_of_in_nodes\n",
    "        self.no_of_out_nodes = no_of_out_nodes\n",
    "        self.no_of_hidden_nodes = no_of_hidden_nodes\n",
    "        self.learning_rate = learning_rate\n",
    "        # biases are initialized to 0\n",
    "        self.b1 = np.zeros((no_of_hidden_nodes,1))\n",
    "        self.b2 = 0\n",
    "        # init weights\n",
    "        self.w1 = None\n",
    "        self.w2 = None\n",
    "        self.create_weight_matrices()\n",
    "        # we will also store the gradients\n",
    "        self.dw1 = None\n",
    "        self.dw2 = None\n",
    "        self.db1 = None\n",
    "        self.db2 = None\n",
    "        \n",
    "    \n",
    "    def set_learning_rate(self, new_lr):\n",
    "        self.learning_rate = new_lr\n",
    "    \n",
    "    def create_weight_matrices(self):\n",
    "        \"\"\" Method to initialize the weight matrices of the ANN\"\"\"\n",
    "        \n",
    "        parameter = 1 / np.sqrt(self.no_of_in_nodes)\n",
    "        X = truncated_normal(mean=0, sd=1, low=-parameter, upp=parameter)\n",
    "        self.w1 = X.rvs((self.no_of_hidden_nodes, self.no_of_in_nodes))\n",
    "        parameter = 1 / np.sqrt(self.no_of_hidden_nodes)\n",
    "        X = truncated_normal(mean=0, sd=1, low=-parameter, upp=parameter)\n",
    "        self.w2 = X.rvs((self.no_of_out_nodes, self.no_of_hidden_nodes))\n",
    "        \n",
    "        \n",
    "    \n",
    "    # TODO: implement the forward pass!\n",
    "    def forward_pass(self, x):\n",
    "        \"\"\" Method to propagate through the network\"\"\"\n",
    "        \n",
    "        # code starts here\n",
    "        fx = self.w2 @ sigmoid(self.w1 * x + self.b1) + self.b2\n",
    "        return fx\n",
    "    \n",
    "    \n",
    "    # TODO: implement the backward pass (i.e. calculate the gradients)!\n",
    "    #       Use the calculations from Task 2.\n",
    "    #       Attention! Make sure the gradient dimensions fit that of the parameters!\n",
    "    def backward_pass(self, fx, y, x ):\n",
    "        \"\"\" Calculate derivatives w.r.t. weights\"\"\"\n",
    "        # TODO: implement the backward pass\n",
    "        s = sigmoid(self.w1 * x + self.b1)\n",
    "        d1 = fx - y\n",
    "        #d2 = self.w2.T * (s * (1 - s))\n",
    "        d2 = self.w2.T * (s * (np.identity(1) - s))\n",
    "        \n",
    "        # calc gradient for w1 and store it into self.dw1\n",
    "        # code starts here\n",
    "        self.dw1 = d1 * (d2 * x.T) # this should be the last line for dw1\n",
    "        \n",
    "        # calc gradient for w2 and store it into self.dw2\n",
    "        # code starts here\n",
    "        self.dw2 = d1 * s.T # this should be the last line for dw2\n",
    "        \n",
    "        # calc gradient for b1 and store it into self.db1\n",
    "        # code starts here\n",
    "        self.db1 = d1 * d2 # this should be the last line for db1\n",
    "        \n",
    "        # calc gradient for b2 and store it into self.db2\n",
    "        # code starts here\n",
    "        self.db2 = d1 # this should be the last line for db2\n",
    "        \n",
    "        \n",
    "        \n",
    "    # TODO: update the parameters (be careful, check the dimensions!)   \n",
    "    def update(self):\n",
    "        self.w1 = self.w1 - self.learning_rate * self.dw1\n",
    "        self.w2 = self.w2 - self.learning_rate * self.dw2\n",
    "        self.b1 = self.b1 - self.learning_rate * self.db1\n",
    "        self.b2 = self.b2 - self.learning_rate * self.db2\n",
    "        "
   ]
  },
  {
   "cell_type": "code",
   "execution_count": 7,
   "metadata": {},
   "outputs": [
    {
     "name": "stdout",
     "output_type": "stream",
     "text": [
      " epoch: 0, i: 6473, loss = 0.000692, learning rate: 1.000000 "
     ]
    }
   ],
   "source": [
    "# NOTHING TO DO FOR YOU, EXCEPT: IT SHOULD RUN WITH YOUR IMPLEMENTATION!\n",
    "# (except: data types could change in comparison to my implementation. \n",
    "#          You can addapt the main loop accordingly. )\n",
    "\n",
    "# We create an instance of our neural network class\n",
    "# Lets start with 5 hidden nodes and a learning rate of 1\n",
    "# You can experiment with both, but the above setting should work\n",
    "simple_network = NeuralNetwork(no_of_in_nodes=1, \n",
    "                               no_of_out_nodes=1, \n",
    "                               no_of_hidden_nodes=5,\n",
    "                               learning_rate=1)\n",
    "\n",
    "# We train with 10000 data points from the noisy function\n",
    "n = 10000\n",
    "x = get_random_x(n)\n",
    "y = f_noisy(x) # Changed here\n",
    "\n",
    "# in every epoch we shuffle the data set\n",
    "def shuffle(x,y):\n",
    "    # get random indices\n",
    "    n = len(x)\n",
    "    idx = np.array(range(n))\n",
    "    np.random.shuffle(idx)\n",
    "    x = x[idx]\n",
    "    y = y[idx]\n",
    "    return x,y \n",
    "    \n",
    "\n",
    "loss = []\n",
    "l = None\n",
    "# Here the actual magic is happening. We train the ANN for two epochs.\n",
    "# That means the ANN uses the full data set two times\n",
    "for epoch in range(2):\n",
    "    # get current learning rate (for printing and addapting)\n",
    "    lr = simple_network.learning_rate\n",
    "    # shuffle data\n",
    "    x,y = shuffle(x,y)\n",
    "    # iterate over all training samples\n",
    "    for i, xi in enumerate(x):\n",
    "        # forward pass\n",
    "        fx= simple_network.forward_pass(xi)\n",
    "        # adjust output format (might be different in your implementation)\n",
    "        fx = fx.flatten()[0]\n",
    "        # calculate loss\n",
    "        l = mse_loss(fx,y[i])\n",
    "        # track the loss and print current state\n",
    "        loss.append(l)\n",
    "        print(\"\\r epoch: %d, i: %d, loss = %f, learning rate: %f \" \n",
    "              %( epoch, i,l, lr), end=\"\", flush=True)\n",
    "        # calculate gradients\n",
    "        simple_network.backward_pass(fx,y[i],xi)\n",
    "        # update parameters\n",
    "        simple_network.update()\n",
    "    # In every epoch we addapt the learning rat\n",
    "    simple_network.set_learning_rate(lr*0.1)\n",
    "    print(\"\", flush=True)"
   ]
  },
  {
   "cell_type": "code",
   "execution_count": 8,
   "metadata": {},
   "outputs": [
    {
     "data": {
      "image/png": "[encoded data removed]",
      "text/plain": [
       "<Figure size 1152x648 with 1 Axes>"
      ]
     },
     "metadata": {
      "needs_background": "light"
     },
     "output_type": "display_data"
    }
   ],
   "source": [
    "# plot training loss\n",
    "plt.figure(figsize=(16,9))\n",
    "plt.clf()\n",
    "plt.plot(loss)\n",
    "plt.show()"
   ]
  },
  {
   "cell_type": "code",
   "execution_count": 9,
   "metadata": {},
   "outputs": [
    {
     "data": {
      "image/png": "[encoded data removed]",
      "text/plain": [
       "<Figure size 1152x648 with 1 Axes>"
      ]
     },
     "metadata": {
      "needs_background": "light"
     },
     "output_type": "display_data"
    }
   ],
   "source": [
    "# plot training data and learned function\n",
    "x_in = np.linspace(-1,1,1000)\n",
    "fx = []\n",
    "for xi in x_in:\n",
    "    fx.append(simple_network.forward_pass(xi)[0][0])\n",
    "    \n",
    "plt.figure(figsize=(16,9))\n",
    "plt.clf()\n",
    "plt.plot(x,y,'o')\n",
    "plt.plot(x_in,fx)\n",
    "plt.show()"
   ]
  }
 ],
 "metadata": {
  "kernelspec": {
   "display_name": "Python 3",
   "language": "python",
   "name": "python3"
  },
  "language_info": {
   "codemirror_mode": {
    "name": "ipython",
    "version": 3
   },
   "file_extension": ".py",
   "mimetype": "text/x-python",
   "name": "python",
   "nbconvert_exporter": "python",
   "pygments_lexer": "ipython3",
   "version": "3.8.2"
  }
 },
 "nbformat": 4,
 "nbformat_minor": 2
}
